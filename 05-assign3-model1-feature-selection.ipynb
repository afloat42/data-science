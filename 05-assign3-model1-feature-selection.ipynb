{
 "cells": [
  {
   "cell_type": "code",
   "execution_count": 1,
   "id": "2faa6b30",
   "metadata": {},
   "outputs": [],
   "source": [
    "# ISYS2407 Information Systems Solutions & Design\n",
    "\n",
    "# Assignment 3\n",
    "\n",
    "# Exploratory Data Analysis\n",
    "\n",
    "#### Student name:\n",
    "\n",
    "#### Student number:"
   ]
  },
  {
   "cell_type": "markdown",
   "id": "c022442b",
   "metadata": {},
   "source": [
    "# 1. Import libraries"
   ]
  },
  {
   "cell_type": "code",
   "execution_count": 2,
   "id": "a4948150",
   "metadata": {},
   "outputs": [],
   "source": [
    "# Import the library for pickling\n",
    "# Library needed for counting categorical values\n",
    "import collections\n",
    "\n",
    "import joblib\n",
    "\n",
    "# Import the plotting libraries\n",
    "import matplotlib.pyplot as plt\n",
    "import numpy as np\n",
    "\n",
    "# Also need pandas here\n",
    "import pandas as pd\n",
    "\n",
    "%matplotlib inline\n",
    "import seaborn as sns\n",
    "\n",
    "# Import the model library\n",
    "from sklearn.linear_model import LogisticRegression\n",
    "\n",
    "# Import the libraries for computing the metrics\n",
    "from sklearn.metrics import (\n",
    "    accuracy_score,\n",
    "    auc,\n",
    "    classification_report,\n",
    "    confusion_matrix,\n",
    "    f1_score,\n",
    "    precision_score,\n",
    "    recall_score,\n",
    "    roc_curve,\n",
    ")\n",
    "\n",
    "# Library for performing grid search\n",
    "# Library for splitting the data into train and test sets\n",
    "from sklearn.model_selection import GridSearchCV, train_test_split\n",
    "\n",
    "# Libary needed for onehot encoder\n",
    "# Library for replacing labels with numbers\n",
    "# Library to scale values\n",
    "from sklearn.preprocessing import (\n",
    "    LabelBinarizer,\n",
    "    LabelEncoder,\n",
    "    OneHotEncoder,\n",
    "    StandardScaler,\n",
    ")\n",
    "\n",
    "# Just use pandas get_dummies which is a lot easier to use"
   ]
  },
  {
   "cell_type": "markdown",
   "id": "29bb6bf0",
   "metadata": {},
   "source": [
    "# 2. Load the cleaned data\n",
    "\n",
    "#### Pickled file must exist in your folder"
   ]
  },
  {
   "cell_type": "code",
   "execution_count": 3,
   "id": "a380e6ab",
   "metadata": {},
   "outputs": [
    {
     "name": "stdout",
     "output_type": "stream",
     "text": [
      "<class 'pandas.core.frame.DataFrame'>\n",
      "RangeIndex: 3786 entries, 0 to 3785\n",
      "Data columns (total 13 columns):\n",
      " #   Column              Non-Null Count  Dtype  \n",
      "---  ------              --------------  -----  \n",
      " 0   customer_id         3786 non-null   int64  \n",
      " 1   age                 3786 non-null   float64\n",
      " 2   yrs_experience      3786 non-null   float64\n",
      " 3   family_size         3786 non-null   float64\n",
      " 4   education_level     3786 non-null   int64  \n",
      " 5   income              3786 non-null   float64\n",
      " 6   mortgage_amt        3786 non-null   int64  \n",
      " 7   credit_card_acct    3786 non-null   int64  \n",
      " 8   credit_card_spend   3786 non-null   float64\n",
      " 9   share_trading_acct  3786 non-null   int64  \n",
      " 10  fixed_deposit_acct  3786 non-null   int64  \n",
      " 11  online_acct         3786 non-null   int64  \n",
      " 12  personal_loan       3786 non-null   int64  \n",
      "dtypes: float64(5), int64(8)\n",
      "memory usage: 384.6 KB\n"
     ]
    }
   ],
   "source": [
    "# Load the pickled file\n",
    "personalLoan_df = joblib.load('personalLoan-cleaned.pkl')  \n",
    "\n",
    "# Check\n",
    "personalLoan_df.head()\n",
    "personalLoan_df.info()"
   ]
  },
  {
   "cell_type": "markdown",
   "id": "3e167ebc",
   "metadata": {},
   "source": [
    "# 3. Split the data into training and testing set"
   ]
  },
  {
   "cell_type": "code",
   "execution_count": 4,
   "id": "a449c12b",
   "metadata": {},
   "outputs": [],
   "source": [
    "# Store the features in variable X (uppercase as there are multiple features)\n",
    "\n",
    "# Features are variables that affect the target/label\n",
    "# So, it's all the columns excluding the target column\n",
    "# However, you may also use a subset of features previously identified as best features\n",
    "# You might want to experiment with both the full set and the best features\n",
    "feature_cols = [\n",
    "    \"education_level\",\n",
    "    \"fixed_deposit_acct\",\n",
    "    \"credit_card_spend\",\n",
    "    \"mortgage_amt\"\n",
    "]\n",
    "\n",
    "\n",
    "\n",
    "X = personalLoan_df[feature_cols]\n",
    "# print('X:\\n', X)\n",
    "\n",
    "# Store the labels/target in variable y (lower case as its a single value)\n",
    "y = personalLoan_df[\"personal_loan\"]\n",
    "# print('y:\\n', y)\n",
    "\n",
    "# Split into train/test set\n",
    "X_train, X_test, y_train, y_test = train_test_split(\n",
    "    X,\n",
    "    y,\n",
    "    test_size=0.2,  # keep 20% for testing\n",
    "    random_state=12,  # pass an int for reproducible rtesult\n",
    ")"
   ]
  },
  {
   "cell_type": "markdown",
   "id": "66756f33",
   "metadata": {},
   "source": [
    "# 4. Data Transformations to improve modelling performance\n",
    "\n",
    "Should be performed after the data has been split into training and testing sets to prevent information leakage (train-test contamination)"
   ]
  },
  {
   "cell_type": "markdown",
   "id": "22d6c6dd",
   "metadata": {},
   "source": [
    "## 4.1 Scale the columns with continuous values"
   ]
  },
  {
   "cell_type": "code",
   "execution_count": 5,
   "id": "488d6d1c",
   "metadata": {},
   "outputs": [
    {
     "name": "stdout",
     "output_type": "stream",
     "text": [
      "(3028, 4) (758, 4)\n"
     ]
    }
   ],
   "source": [
    "# 1. Select the columns to scale\n",
    "# Make sure they are continuous columns as scaling is only for continuous values\n",
    "# Better list all the columns and comment out the ones you don't need\n",
    "columns_to_scale = [\n",
    "    \"education_level\",\n",
    "    \"fixed_deposit_acct\",\n",
    "    \"credit_card_spend\",\n",
    "    \"mortgage_amt\"\n",
    "]\n",
    "\n",
    "# 2. Make copy of the training and testing sets fix the issue below\n",
    "# Warning: A value is trying to be set on a copy of a slice from a DataFrame.\n",
    "# Try using .loc[row_indexer,col_indexer] = value instead\n",
    "X_train = X_train.copy()\n",
    "X_test = X_test.copy()\n",
    "\n",
    "# 3. Instantiate a scaler\n",
    "scaler = StandardScaler()\n",
    "\n",
    "# 4. Fit the scaler on the training column and transform the training and testing columns\n",
    "# Use a loop to scale all the required columns\n",
    "for col in columns_to_scale:\n",
    "    # print(col)\n",
    "    # First fit the scaler to the column in the training data\n",
    "    # Must reshape the numpy array returned b the scaler from 1D to 2D\n",
    "    scaler.fit(X_train[col].values.reshape(-1, 1))\n",
    "    # Then transform both the training and testing sets\n",
    "    X_train[col] = scaler.transform(X_train[col].values.reshape(-1, 1))\n",
    "    X_test[col] = scaler.transform(X_test[col].values.reshape(-1, 1))\n",
    "\n",
    "# Check\n",
    "print(X_train.shape, X_test.shape)"
   ]
  },
  {
   "cell_type": "code",
   "execution_count": 6,
   "id": "01c89014",
   "metadata": {},
   "outputs": [
    {
     "data": {
      "text/html": [
       "<div>\n",
       "<style scoped>\n",
       "    .dataframe tbody tr th:only-of-type {\n",
       "        vertical-align: middle;\n",
       "    }\n",
       "\n",
       "    .dataframe tbody tr th {\n",
       "        vertical-align: top;\n",
       "    }\n",
       "\n",
       "    .dataframe thead th {\n",
       "        text-align: right;\n",
       "    }\n",
       "</style>\n",
       "<table border=\"1\" class=\"dataframe\">\n",
       "  <thead>\n",
       "    <tr style=\"text-align: right;\">\n",
       "      <th></th>\n",
       "      <th>education_level</th>\n",
       "      <th>fixed_deposit_acct</th>\n",
       "      <th>credit_card_spend</th>\n",
       "      <th>mortgage_amt</th>\n",
       "    </tr>\n",
       "  </thead>\n",
       "  <tbody>\n",
       "    <tr>\n",
       "      <th>1322</th>\n",
       "      <td>-1.322237</td>\n",
       "      <td>-0.296706</td>\n",
       "      <td>-0.440689</td>\n",
       "      <td>0.009895</td>\n",
       "    </tr>\n",
       "    <tr>\n",
       "      <th>1635</th>\n",
       "      <td>1.062357</td>\n",
       "      <td>-0.296706</td>\n",
       "      <td>-0.440689</td>\n",
       "      <td>2.586095</td>\n",
       "    </tr>\n",
       "    <tr>\n",
       "      <th>142</th>\n",
       "      <td>-0.129940</td>\n",
       "      <td>-0.296706</td>\n",
       "      <td>-0.440689</td>\n",
       "      <td>-0.784528</td>\n",
       "    </tr>\n",
       "    <tr>\n",
       "      <th>3024</th>\n",
       "      <td>1.062357</td>\n",
       "      <td>-0.296706</td>\n",
       "      <td>-0.440689</td>\n",
       "      <td>-0.784528</td>\n",
       "    </tr>\n",
       "    <tr>\n",
       "      <th>36</th>\n",
       "      <td>-1.322237</td>\n",
       "      <td>-0.296706</td>\n",
       "      <td>-0.440689</td>\n",
       "      <td>1.383111</td>\n",
       "    </tr>\n",
       "  </tbody>\n",
       "</table>\n",
       "</div>"
      ],
      "text/plain": [
       "      education_level  fixed_deposit_acct  credit_card_spend  mortgage_amt\n",
       "1322        -1.322237           -0.296706          -0.440689      0.009895\n",
       "1635         1.062357           -0.296706          -0.440689      2.586095\n",
       "142         -0.129940           -0.296706          -0.440689     -0.784528\n",
       "3024         1.062357           -0.296706          -0.440689     -0.784528\n",
       "36          -1.322237           -0.296706          -0.440689      1.383111"
      ]
     },
     "execution_count": 6,
     "metadata": {},
     "output_type": "execute_result"
    }
   ],
   "source": [
    "# Check again\n",
    "X_train.head()"
   ]
  },
  {
   "cell_type": "code",
   "execution_count": 7,
   "id": "f2f749c8",
   "metadata": {},
   "outputs": [
    {
     "data": {
      "text/html": [
       "<div>\n",
       "<style scoped>\n",
       "    .dataframe tbody tr th:only-of-type {\n",
       "        vertical-align: middle;\n",
       "    }\n",
       "\n",
       "    .dataframe tbody tr th {\n",
       "        vertical-align: top;\n",
       "    }\n",
       "\n",
       "    .dataframe thead th {\n",
       "        text-align: right;\n",
       "    }\n",
       "</style>\n",
       "<table border=\"1\" class=\"dataframe\">\n",
       "  <thead>\n",
       "    <tr style=\"text-align: right;\">\n",
       "      <th></th>\n",
       "      <th>education_level</th>\n",
       "      <th>fixed_deposit_acct</th>\n",
       "      <th>credit_card_spend</th>\n",
       "      <th>mortgage_amt</th>\n",
       "    </tr>\n",
       "  </thead>\n",
       "  <tbody>\n",
       "    <tr>\n",
       "      <th>565</th>\n",
       "      <td>1.062357</td>\n",
       "      <td>-0.296706</td>\n",
       "      <td>-0.440689</td>\n",
       "      <td>0.282268</td>\n",
       "    </tr>\n",
       "    <tr>\n",
       "      <th>2584</th>\n",
       "      <td>1.062357</td>\n",
       "      <td>-0.296706</td>\n",
       "      <td>-0.440689</td>\n",
       "      <td>-0.784528</td>\n",
       "    </tr>\n",
       "    <tr>\n",
       "      <th>2784</th>\n",
       "      <td>1.062357</td>\n",
       "      <td>-0.296706</td>\n",
       "      <td>-0.370060</td>\n",
       "      <td>1.371763</td>\n",
       "    </tr>\n",
       "    <tr>\n",
       "      <th>691</th>\n",
       "      <td>1.062357</td>\n",
       "      <td>-0.296706</td>\n",
       "      <td>-0.440689</td>\n",
       "      <td>-0.784528</td>\n",
       "    </tr>\n",
       "    <tr>\n",
       "      <th>2544</th>\n",
       "      <td>-1.322237</td>\n",
       "      <td>3.370339</td>\n",
       "      <td>-0.440689</td>\n",
       "      <td>0.963202</td>\n",
       "    </tr>\n",
       "  </tbody>\n",
       "</table>\n",
       "</div>"
      ],
      "text/plain": [
       "      education_level  fixed_deposit_acct  credit_card_spend  mortgage_amt\n",
       "565          1.062357           -0.296706          -0.440689      0.282268\n",
       "2584         1.062357           -0.296706          -0.440689     -0.784528\n",
       "2784         1.062357           -0.296706          -0.370060      1.371763\n",
       "691          1.062357           -0.296706          -0.440689     -0.784528\n",
       "2544        -1.322237            3.370339          -0.440689      0.963202"
      ]
     },
     "execution_count": 7,
     "metadata": {},
     "output_type": "execute_result"
    }
   ],
   "source": [
    "# Check again\n",
    "X_test.head()"
   ]
  },
  {
   "cell_type": "markdown",
   "id": "d2981647",
   "metadata": {},
   "source": [
    "# 5. Modelling"
   ]
  },
  {
   "cell_type": "markdown",
   "id": "bc586272",
   "metadata": {},
   "source": [
    "## 5.1 Initial/baseline model"
   ]
  },
  {
   "cell_type": "markdown",
   "id": "b2cdf008",
   "metadata": {},
   "source": [
    "### 5.1.1 Fit initial model"
   ]
  },
  {
   "cell_type": "code",
   "execution_count": 8,
   "id": "d9369756",
   "metadata": {},
   "outputs": [
    {
     "name": "stdout",
     "output_type": "stream",
     "text": [
      "[0 0 0 0 1]\n"
     ]
    }
   ],
   "source": [
    "# Import the model library\n",
    "from sklearn.neighbors import KNeighborsClassifier\n",
    "\n",
    "# Instantiate model and fit on training data\n",
    "knn_model = KNeighborsClassifier(n_neighbors=5).fit(X_train, y_train)\n",
    "\n",
    "# Predict using test data\n",
    "y_pred = knn_model.predict(X_test)\n",
    "\n",
    "# Quick check\n",
    "print(y_pred[:5])"
   ]
  },
  {
   "cell_type": "markdown",
   "id": "3e7e62e4",
   "metadata": {},
   "source": [
    "### 5.1.1 Evaluate model"
   ]
  },
  {
   "cell_type": "code",
   "execution_count": 9,
   "id": "138b8a8d",
   "metadata": {},
   "outputs": [
    {
     "name": "stdout",
     "output_type": "stream",
     "text": [
      "classification_accuracy: 0.8614775725593667\n",
      "Is this a good classifier?\n"
     ]
    }
   ],
   "source": [
    "# Compute performance metrics of the baseline model\n",
    "classification_accuracy = accuracy_score(y_test, y_pred)\n",
    "print(f\"classification_accuracy: {classification_accuracy}\")\n",
    "print(f\"Is this a good classifier?\")"
   ]
  },
  {
   "cell_type": "code",
   "execution_count": 10,
   "id": "fbcbd9b3",
   "metadata": {},
   "outputs": [
    {
     "data": {
      "image/png": "[encoded data removed]",
      "text/plain": [
       "<Figure size 432x288 with 2 Axes>"
      ]
     },
     "metadata": {
      "needs_background": "light"
     },
     "output_type": "display_data"
    }
   ],
   "source": [
    "cf_matrix = confusion_matrix(y_test, y_pred)\n",
    "# Visualise the confusion matrix as a Seaborn Heatmap\n",
    "sns.heatmap(cf_matrix, annot=True, fmt=\"d\", yticklabels=True, cmap=\"YlGnBu\")\n",
    "\n",
    "plt.ylabel(\"True label\")\n",
    "plt.xlabel(\"Predicted label\")\n",
    "\n",
    "# If you want to save the graph to disk\n",
    "plt.tight_layout()  # automatically adjusts subplot to fit in the figure area\n",
    "plt.savefig(\"confusion-matrix-initial.png\", dpi=300)  # dpi=300 is print quality"
   ]
  },
  {
   "cell_type": "code",
   "execution_count": 11,
   "id": "96d6df3d",
   "metadata": {},
   "outputs": [
    {
     "name": "stdout",
     "output_type": "stream",
     "text": [
      "recall: 0.3140495867768595\n"
     ]
    }
   ],
   "source": [
    "recall = recall_score(y_test, y_pred)\n",
    "print(f\"recall: {recall}\")"
   ]
  },
  {
   "cell_type": "code",
   "execution_count": 12,
   "id": "fc1572a2",
   "metadata": {},
   "outputs": [
    {
     "name": "stdout",
     "output_type": "stream",
     "text": [
      "precision: 0.6333333333333333\n"
     ]
    }
   ],
   "source": [
    "precision = precision_score(y_test, y_pred)\n",
    "print(f\"precision: {precision}\")"
   ]
  },
  {
   "cell_type": "code",
   "execution_count": 13,
   "id": "73fb8416",
   "metadata": {},
   "outputs": [
    {
     "name": "stdout",
     "output_type": "stream",
     "text": [
      "F1 score: 0.4198895027624309\n"
     ]
    }
   ],
   "source": [
    "f1 = f1_score(y_test, y_pred)\n",
    "print(f\"F1 score: {f1}\")"
   ]
  },
  {
   "cell_type": "code",
   "execution_count": 14,
   "id": "a7e1ed35",
   "metadata": {},
   "outputs": [
    {
     "name": "stdout",
     "output_type": "stream",
     "text": [
      "              precision    recall  f1-score   support\n",
      "\n",
      "           0       0.88      0.97      0.92       637\n",
      "           1       0.63      0.31      0.42       121\n",
      "\n",
      "    accuracy                           0.86       758\n",
      "   macro avg       0.76      0.64      0.67       758\n",
      "weighted avg       0.84      0.86      0.84       758\n",
      "\n"
     ]
    }
   ],
   "source": [
    "print(classification_report(y_test, y_pred))"
   ]
  },
  {
   "cell_type": "code",
   "execution_count": 15,
   "id": "00762eeb",
   "metadata": {},
   "outputs": [
    {
     "name": "stdout",
     "output_type": "stream",
     "text": [
      "AUC: 0.64\n"
     ]
    },
    {
     "data": {
      "image/png": "[encoded data removed]",
      "text/plain": [
       "<Figure size 432x288 with 1 Axes>"
      ]
     },
     "metadata": {
      "needs_background": "light"
     },
     "output_type": "display_data"
    }
   ],
   "source": [
    "# Call function roc_curve() to get the false positive rates (fpr) and true positive rates\n",
    "# Need to pass the list of actual and predicted classes as parameters to the function\n",
    "fpr, tpr, thresholds = roc_curve(y_test, y_pred)\n",
    "# print(fpr)\n",
    "# print(tpr)\n",
    "\n",
    "# Call the auc() function to calculate the area under the curve\n",
    "# Need to pass the false positive rates (fpr) and true positive rates as parameters to the function\n",
    "roc_auc = auc(fpr, tpr)\n",
    "print(f\"AUC: {roc_auc:0.2f}\")  # float 2 places of decimal\n",
    "\n",
    "# Plot ROC curve\n",
    "plt.figure()\n",
    "plt.plot(fpr, tpr, label=\"ROC curve (area = %.2f)\" % roc_auc)\n",
    "plt.plot([0, 1], [0, 1], \"k--\")\n",
    "plt.xlim([0.0, 1.0])\n",
    "plt.ylim([0.0, 1.05])\n",
    "plt.xlabel(\"False positive rate\")\n",
    "plt.ylabel(\"True positive rate\")\n",
    "plt.title(\"ROC curve\")\n",
    "plt.legend(loc=\"lower right\")\n",
    "plt.grid()\n",
    "# plt.show()\n",
    "\n",
    "# If you want to save the graph to disk\n",
    "plt.tight_layout()  # automatically adjusts subplot to fit in the figure area\n",
    "plt.savefig(\"roc-curve-initial.png\", dpi=300)  # dpi=300 is print quality"
   ]
  },
  {
   "cell_type": "markdown",
   "id": "afcef1c4",
   "metadata": {},
   "source": [
    "## 5.2 Improved model"
   ]
  },
  {
   "cell_type": "markdown",
   "id": "1a42a031",
   "metadata": {},
   "source": [
    "### 5.2.1 Use grid search to find best hyperameters"
   ]
  },
  {
   "cell_type": "code",
   "execution_count": 16,
   "id": "ef9a4817",
   "metadata": {},
   "outputs": [
    {
     "name": "stdout",
     "output_type": "stream",
     "text": [
      "Best params: {'n_neighbors': 19}, score: 0.49\n"
     ]
    }
   ],
   "source": [
    "# Ref: https://scikit-learn.org/stable/modules/generated/sklearn.neighbors.KNeighborsClassifier.html\n",
    "\n",
    "# List of relevant params\n",
    "#     n_neighbors:int, default=5\n",
    "#     weights: {‘uniform’, ‘distance’} or callable, default=’uniform’\n",
    "#     algorithm: {‘auto’, ‘ball_tree’, ‘kd_tree’, ‘brute’}, default=’auto’\n",
    "\n",
    "param_grid = [\n",
    "    {\"n_neighbors\": range(1, 50)},\n",
    "    {\"n_neighbors\": range(1, 50), \"weights\": [\"uniform\", \"distance\"]}\n",
    "]\n",
    "\n",
    "# Instantiate a grid search object and fit it to the training data\n",
    "clf = KNeighborsClassifier()\n",
    "grid = GridSearchCV(clf, param_grid, verbose=0, cv=5, scoring='f1')\n",
    "grid.fit(X_train, y_train)\n",
    "print(f\"Best params: {grid.best_params_}, score: {grid.best_score_:0.2f}\")"
   ]
  },
  {
   "cell_type": "markdown",
   "id": "9c0cd501",
   "metadata": {},
   "source": [
    "### 5.2.2 Fit improved model"
   ]
  },
  {
   "cell_type": "code",
   "execution_count": 17,
   "id": "623a8c79",
   "metadata": {},
   "outputs": [
    {
     "name": "stdout",
     "output_type": "stream",
     "text": [
      "[0 0 0 0 1 0 0 0 0 0 0 0 0 0 0 0 0 0 0 0 0 0 0 0 0]\n"
     ]
    }
   ],
   "source": [
    "# Instantiate model and fit on training data\n",
    "# Instantiate model and fit on training data\n",
    "knn_model = KNeighborsClassifier(n_neighbors=5).fit(X_train, y_train)\n",
    "\n",
    "# Predict using test data\n",
    "y_pred = knn_model.predict(X_test)\n",
    "\n",
    "# Quick check\n",
    "print(y_pred[:25])"
   ]
  },
  {
   "cell_type": "markdown",
   "id": "d8a34fe6",
   "metadata": {},
   "source": [
    "### 5.2.3 Evaluate  improved model"
   ]
  },
  {
   "cell_type": "code",
   "execution_count": 18,
   "id": "f3079b52",
   "metadata": {},
   "outputs": [
    {
     "data": {
      "image/png": "[encoded data removed]",
      "text/plain": [
       "<Figure size 432x288 with 2 Axes>"
      ]
     },
     "metadata": {
      "needs_background": "light"
     },
     "output_type": "display_data"
    }
   ],
   "source": [
    "cf_matrix = confusion_matrix(y_test, y_pred)\n",
    "# Visualise the confusion matrix as a Seaborn Heatmap\n",
    "sns.heatmap(cf_matrix, annot=True, fmt=\"d\", yticklabels=True, cmap=\"YlGnBu\")\n",
    "\n",
    "plt.ylabel(\"True label\")\n",
    "plt.xlabel(\"Predicted label\")\n",
    "\n",
    "# If you want to save the graph to disk\n",
    "plt.tight_layout()  # automatically adjusts subplot to fit in the figure area\n",
    "plt.savefig(\"confusion-matrix-initial.png\", dpi=300)  # dpi=300 is print quality"
   ]
  },
  {
   "cell_type": "code",
   "execution_count": 19,
   "id": "7fa42f59",
   "metadata": {},
   "outputs": [
    {
     "name": "stdout",
     "output_type": "stream",
     "text": [
      "              precision    recall  f1-score   support\n",
      "\n",
      "           0       0.88      0.97      0.92       637\n",
      "           1       0.63      0.31      0.42       121\n",
      "\n",
      "    accuracy                           0.86       758\n",
      "   macro avg       0.76      0.64      0.67       758\n",
      "weighted avg       0.84      0.86      0.84       758\n",
      "\n"
     ]
    }
   ],
   "source": [
    "print(classification_report(y_test, y_pred))"
   ]
  },
  {
   "cell_type": "code",
   "execution_count": 20,
   "id": "870d74ef",
   "metadata": {},
   "outputs": [
    {
     "name": "stdout",
     "output_type": "stream",
     "text": [
      "AUC: 0.64\n"
     ]
    },
    {
     "data": {
      "image/png": "[encoded data removed]",
      "text/plain": [
       "<Figure size 432x288 with 1 Axes>"
      ]
     },
     "metadata": {
      "needs_background": "light"
     },
     "output_type": "display_data"
    }
   ],
   "source": [
    "# Call function roc_curve() to get the false positive rates (fpr) and true positive rates\n",
    "# Need to pass the list of actual and predicted classes as parameters to the function\n",
    "fpr, tpr, thresholds = roc_curve(y_test, y_pred)\n",
    "# print(fpr)\n",
    "# print(tpr)\n",
    "\n",
    "# Call the auc() function to calculate the area under the curve\n",
    "# Need to pass the false positive rates (fpr) and true positive rates as parameters to the function\n",
    "roc_auc = auc(fpr, tpr)\n",
    "print(f\"AUC: {roc_auc:0.2f}\")  # float 2 places of decimal\n",
    "\n",
    "# Plot ROC curve\n",
    "plt.figure()\n",
    "plt.plot(fpr, tpr, label=\"ROC curve (area = %.2f)\" % roc_auc)\n",
    "plt.plot([0, 1], [0, 1], \"k--\")\n",
    "plt.xlim([0.0, 1.0])\n",
    "plt.ylim([0.0, 1.05])\n",
    "plt.xlabel(\"False positive rate\")\n",
    "plt.ylabel(\"True positive rate\")\n",
    "plt.title(\"ROC curve\")\n",
    "plt.legend(loc=\"lower right\")\n",
    "plt.grid()\n",
    "# plt.show()\n",
    "\n",
    "# If you want to save the graph to disk\n",
    "plt.tight_layout()  # automatically adjusts subplot to fit in the figure area\n",
    "plt.savefig(\"roc-curve-initial.png\", dpi=300)  # dpi=300 is print quality"
   ]
  },
  {
   "cell_type": "code",
   "execution_count": null,
   "id": "98b0903c",
   "metadata": {},
   "outputs": [],
   "source": []
  },
  {
   "cell_type": "code",
   "execution_count": null,
   "id": "53435881",
   "metadata": {},
   "outputs": [],
   "source": []
  },
  {
   "cell_type": "code",
   "execution_count": null,
   "id": "139b48f1",
   "metadata": {},
   "outputs": [],
   "source": []
  },
  {
   "cell_type": "code",
   "execution_count": null,
   "id": "99e06e8d",
   "metadata": {},
   "outputs": [],
   "source": []
  },
  {
   "cell_type": "code",
   "execution_count": null,
   "id": "776250e7",
   "metadata": {},
   "outputs": [],
   "source": []
  },
  {
   "cell_type": "code",
   "execution_count": null,
   "id": "a168121d",
   "metadata": {},
   "outputs": [],
   "source": []
  },
  {
   "cell_type": "code",
   "execution_count": null,
   "id": "38bc81cd",
   "metadata": {},
   "outputs": [],
   "source": []
  },
  {
   "cell_type": "code",
   "execution_count": null,
   "id": "9af2383a",
   "metadata": {},
   "outputs": [],
   "source": []
  },
  {
   "cell_type": "code",
   "execution_count": null,
   "id": "e5403502",
   "metadata": {},
   "outputs": [],
   "source": []
  },
  {
   "cell_type": "code",
   "execution_count": null,
   "id": "cc8ff4a1",
   "metadata": {},
   "outputs": [],
   "source": []
  },
  {
   "cell_type": "code",
   "execution_count": null,
   "id": "06d991b6",
   "metadata": {},
   "outputs": [],
   "source": []
  },
  {
   "cell_type": "code",
   "execution_count": null,
   "id": "26b2ec5a",
   "metadata": {},
   "outputs": [],
   "source": []
  },
  {
   "cell_type": "code",
   "execution_count": null,
   "id": "381d9e79",
   "metadata": {},
   "outputs": [],
   "source": []
  },
  {
   "cell_type": "code",
   "execution_count": null,
   "id": "bfe75bd2",
   "metadata": {},
   "outputs": [],
   "source": []
  },
  {
   "cell_type": "code",
   "execution_count": null,
   "id": "68b87216",
   "metadata": {},
   "outputs": [],
   "source": []
  },
  {
   "cell_type": "code",
   "execution_count": null,
   "id": "cc83bcb8",
   "metadata": {},
   "outputs": [],
   "source": []
  },
  {
   "cell_type": "code",
   "execution_count": null,
   "id": "2506417e",
   "metadata": {},
   "outputs": [],
   "source": []
  },
  {
   "cell_type": "code",
   "execution_count": null,
   "id": "ffe2e830",
   "metadata": {},
   "outputs": [],
   "source": []
  }
 ],
 "metadata": {
  "kernelspec": {
   "display_name": "Python 3 (ipykernel)",
   "language": "python",
   "name": "python3"
  },
  "language_info": {
   "codemirror_mode": {
    "name": "ipython",
    "version": 3
   },
   "file_extension": ".py",
   "mimetype": "text/x-python",
   "name": "python",
   "nbconvert_exporter": "python",
   "pygments_lexer": "ipython3",
   "version": "3.10.10"
  }
 },
 "nbformat": 4,
 "nbformat_minor": 5
}
