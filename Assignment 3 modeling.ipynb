{
 "cells": [
  {
   "cell_type": "code",
   "execution_count": 81,
   "id": "d773a824",
   "metadata": {},
   "outputs": [],
   "source": [
    "# Pandas is the main library used for exploratory data analysis\n",
    "# Pandas is built on top of numpy \n",
    "# Numpy allows fast advanced mathematical operations on large amount of data\n",
    "import numpy as np\n",
    "import pandas as pd\n",
    "\n",
    "# Library to assign missing values - not used here, better do it in EDA\n",
    "from sklearn.impute import SimpleImputer\n",
    "\n",
    "# Matplotlib is the main plotting library for python\n",
    "# Seaborn is built on top of matplotlib and it's easier to use\n",
    "# pandas also have same basic plotting capabilities which are again built on top of matplotlib\n",
    "import matplotlib.pyplot as plt\n",
    "# The next statement instructs matplotlib to plot the graphs inside the notebook\n",
    "%matplotlib inline \n",
    "import seaborn as sns\n",
    "\n",
    "# Another useful plotting library is plotly - it is used for interactive plots\n",
    "# Library for pickling\n",
    "import joblib\n",
    "\n",
    "# Library needed for counting categorical values\n",
    "import collections\n",
    "\n",
    "# Library for splitting the data into train and test sets\n",
    "from sklearn.model_selection import train_test_split \n",
    "\n",
    "# Model library\n",
    "from sklearn.linear_model import LogisticRegression\n",
    "\n",
    "# Scaling\n",
    "from sklearn.preprocessing import StandardScaler\n",
    "\n",
    "# label encoder\n",
    "from sklearn.preprocessing import LabelEncoder\n",
    "\n",
    "# Onehot encoding\n",
    "from sklearn.preprocessing import LabelBinarizer\n",
    "import pandas as pd\n",
    "import numpy as np\n",
    "\n",
    "# Metrics library\n",
    "from sklearn.metrics import accuracy_score\n",
    "from sklearn.metrics import confusion_matrix\n",
    "from sklearn.metrics import recall_score\n",
    "from sklearn.metrics import precision_score\n",
    "from sklearn.metrics import f1_score\n",
    "from sklearn.metrics import classification_report\n",
    "from sklearn.metrics import roc_curve\n",
    "from sklearn.metrics import auc\n",
    "\n",
    "# Plotting libraries\n",
    "import matplotlib.pyplot as plt\n",
    "%matplotlib inline \n",
    "import seaborn as sns\n",
    "\n",
    "# Libary needed for resampling data\n",
    "from sklearn.utils import resample\n"
   ]
  },
  {
   "cell_type": "code",
   "execution_count": 82,
   "id": "546aa5bf",
   "metadata": {},
   "outputs": [
    {
     "data": {
      "text/html": [
       "<div>\n",
       "<style scoped>\n",
       "    .dataframe tbody tr th:only-of-type {\n",
       "        vertical-align: middle;\n",
       "    }\n",
       "\n",
       "    .dataframe tbody tr th {\n",
       "        vertical-align: top;\n",
       "    }\n",
       "\n",
       "    .dataframe thead th {\n",
       "        text-align: right;\n",
       "    }\n",
       "</style>\n",
       "<table border=\"1\" class=\"dataframe\">\n",
       "  <thead>\n",
       "    <tr style=\"text-align: right;\">\n",
       "      <th></th>\n",
       "      <th>customer_id</th>\n",
       "      <th>age</th>\n",
       "      <th>yrs_experience</th>\n",
       "      <th>family_size</th>\n",
       "      <th>education_level</th>\n",
       "      <th>income</th>\n",
       "      <th>mortgage_amt</th>\n",
       "      <th>credit_card_acct</th>\n",
       "      <th>credit_card_spend</th>\n",
       "      <th>share_trading_acct</th>\n",
       "      <th>fixed_deposit_acct</th>\n",
       "      <th>online_acct</th>\n",
       "      <th>personal_loan</th>\n",
       "    </tr>\n",
       "  </thead>\n",
       "  <tbody>\n",
       "    <tr>\n",
       "      <th>0</th>\n",
       "      <td>3</td>\n",
       "      <td>43.0</td>\n",
       "      <td>33.0</td>\n",
       "      <td>1.0</td>\n",
       "      <td>0</td>\n",
       "      <td>54.0</td>\n",
       "      <td>0.0</td>\n",
       "      <td>0</td>\n",
       "      <td>0.0</td>\n",
       "      <td>0</td>\n",
       "      <td>0</td>\n",
       "      <td>1</td>\n",
       "      <td>0</td>\n",
       "    </tr>\n",
       "    <tr>\n",
       "      <th>1</th>\n",
       "      <td>8</td>\n",
       "      <td>60.0</td>\n",
       "      <td>12.0</td>\n",
       "      <td>3.0</td>\n",
       "      <td>1</td>\n",
       "      <td>121.0</td>\n",
       "      <td>125.0</td>\n",
       "      <td>1</td>\n",
       "      <td>2.1</td>\n",
       "      <td>1</td>\n",
       "      <td>0</td>\n",
       "      <td>1</td>\n",
       "      <td>1</td>\n",
       "    </tr>\n",
       "    <tr>\n",
       "      <th>2</th>\n",
       "      <td>10</td>\n",
       "      <td>63.0</td>\n",
       "      <td>13.0</td>\n",
       "      <td>4.0</td>\n",
       "      <td>1</td>\n",
       "      <td>30.0</td>\n",
       "      <td>98.0</td>\n",
       "      <td>0</td>\n",
       "      <td>0.0</td>\n",
       "      <td>0</td>\n",
       "      <td>1</td>\n",
       "      <td>1</td>\n",
       "      <td>0</td>\n",
       "    </tr>\n",
       "    <tr>\n",
       "      <th>3</th>\n",
       "      <td>11</td>\n",
       "      <td>35.0</td>\n",
       "      <td>12.0</td>\n",
       "      <td>1.0</td>\n",
       "      <td>0</td>\n",
       "      <td>121.0</td>\n",
       "      <td>0.0</td>\n",
       "      <td>0</td>\n",
       "      <td>0.0</td>\n",
       "      <td>0</td>\n",
       "      <td>0</td>\n",
       "      <td>0</td>\n",
       "      <td>0</td>\n",
       "    </tr>\n",
       "    <tr>\n",
       "      <th>4</th>\n",
       "      <td>12</td>\n",
       "      <td>37.0</td>\n",
       "      <td>29.0</td>\n",
       "      <td>3.0</td>\n",
       "      <td>1</td>\n",
       "      <td>47.0</td>\n",
       "      <td>0.0</td>\n",
       "      <td>1</td>\n",
       "      <td>0.9</td>\n",
       "      <td>1</td>\n",
       "      <td>0</td>\n",
       "      <td>1</td>\n",
       "      <td>0</td>\n",
       "    </tr>\n",
       "    <tr>\n",
       "      <th>5</th>\n",
       "      <td>13</td>\n",
       "      <td>66.0</td>\n",
       "      <td>28.0</td>\n",
       "      <td>4.0</td>\n",
       "      <td>0</td>\n",
       "      <td>88.0</td>\n",
       "      <td>249.0</td>\n",
       "      <td>1</td>\n",
       "      <td>0.7</td>\n",
       "      <td>0</td>\n",
       "      <td>0</td>\n",
       "      <td>1</td>\n",
       "      <td>0</td>\n",
       "    </tr>\n",
       "    <tr>\n",
       "      <th>6</th>\n",
       "      <td>16</td>\n",
       "      <td>26.0</td>\n",
       "      <td>9.0</td>\n",
       "      <td>3.0</td>\n",
       "      <td>1</td>\n",
       "      <td>103.0</td>\n",
       "      <td>0.0</td>\n",
       "      <td>0</td>\n",
       "      <td>0.0</td>\n",
       "      <td>0</td>\n",
       "      <td>0</td>\n",
       "      <td>1</td>\n",
       "      <td>1</td>\n",
       "    </tr>\n",
       "    <tr>\n",
       "      <th>7</th>\n",
       "      <td>17</td>\n",
       "      <td>51.0</td>\n",
       "      <td>14.0</td>\n",
       "      <td>1.0</td>\n",
       "      <td>1</td>\n",
       "      <td>98.0</td>\n",
       "      <td>0.0</td>\n",
       "      <td>1</td>\n",
       "      <td>1.3</td>\n",
       "      <td>0</td>\n",
       "      <td>0</td>\n",
       "      <td>0</td>\n",
       "      <td>0</td>\n",
       "    </tr>\n",
       "    <tr>\n",
       "      <th>8</th>\n",
       "      <td>18</td>\n",
       "      <td>27.0</td>\n",
       "      <td>39.0</td>\n",
       "      <td>1.0</td>\n",
       "      <td>1</td>\n",
       "      <td>70.0</td>\n",
       "      <td>0.0</td>\n",
       "      <td>0</td>\n",
       "      <td>0.0</td>\n",
       "      <td>0</td>\n",
       "      <td>0</td>\n",
       "      <td>1</td>\n",
       "      <td>0</td>\n",
       "    </tr>\n",
       "    <tr>\n",
       "      <th>9</th>\n",
       "      <td>19</td>\n",
       "      <td>45.0</td>\n",
       "      <td>31.0</td>\n",
       "      <td>2.0</td>\n",
       "      <td>0</td>\n",
       "      <td>179.0</td>\n",
       "      <td>255.0</td>\n",
       "      <td>0</td>\n",
       "      <td>0.0</td>\n",
       "      <td>0</td>\n",
       "      <td>1</td>\n",
       "      <td>0</td>\n",
       "      <td>1</td>\n",
       "    </tr>\n",
       "  </tbody>\n",
       "</table>\n",
       "</div>"
      ],
      "text/plain": [
       "   customer_id   age  yrs_experience  family_size  education_level  income   \n",
       "0            3  43.0            33.0          1.0                0    54.0  \\\n",
       "1            8  60.0            12.0          3.0                1   121.0   \n",
       "2           10  63.0            13.0          4.0                1    30.0   \n",
       "3           11  35.0            12.0          1.0                0   121.0   \n",
       "4           12  37.0            29.0          3.0                1    47.0   \n",
       "5           13  66.0            28.0          4.0                0    88.0   \n",
       "6           16  26.0             9.0          3.0                1   103.0   \n",
       "7           17  51.0            14.0          1.0                1    98.0   \n",
       "8           18  27.0            39.0          1.0                1    70.0   \n",
       "9           19  45.0            31.0          2.0                0   179.0   \n",
       "\n",
       "   mortgage_amt  credit_card_acct  credit_card_spend  share_trading_acct   \n",
       "0           0.0                 0                0.0                   0  \\\n",
       "1         125.0                 1                2.1                   1   \n",
       "2          98.0                 0                0.0                   0   \n",
       "3           0.0                 0                0.0                   0   \n",
       "4           0.0                 1                0.9                   1   \n",
       "5         249.0                 1                0.7                   0   \n",
       "6           0.0                 0                0.0                   0   \n",
       "7           0.0                 1                1.3                   0   \n",
       "8           0.0                 0                0.0                   0   \n",
       "9         255.0                 0                0.0                   0   \n",
       "\n",
       "   fixed_deposit_acct  online_acct  personal_loan  \n",
       "0                   0            1              0  \n",
       "1                   0            1              1  \n",
       "2                   1            1              0  \n",
       "3                   0            0              0  \n",
       "4                   0            1              0  \n",
       "5                   0            1              0  \n",
       "6                   0            1              1  \n",
       "7                   0            0              0  \n",
       "8                   0            1              0  \n",
       "9                   1            0              1  "
      ]
     },
     "execution_count": 82,
     "metadata": {},
     "output_type": "execute_result"
    }
   ],
   "source": [
    "# Load the data - assuming its stored on your computer\n",
    "personalLoan_df = pd.read_csv(\"personalLoan-cleaned.csv\") \n",
    "# Check\n",
    "personalLoan_df.head(10)"
   ]
  },
  {
   "cell_type": "code",
   "execution_count": 83,
   "id": "67de3a12",
   "metadata": {},
   "outputs": [],
   "source": [
    "# Store the features in variable X (uppercase as there are multiple features)\n",
    "\n",
    "# Features are variables that affect the target/label\n",
    "# So, it's all the columns excluding the target column\n",
    "# However, you may also use a subset of features previously identified as best features\n",
    "# You might want to experiment with both the full set and the best features\n",
    "feature_cols = [\n",
    "    'yrs_experience', \n",
    "    \"age\"\n",
    "    'family_size', \n",
    "    'income',  \n",
    "    'credit_card_spend',\n",
    "]\n",
    "\n",
    "X = personalLoan_df[feature_cols]\n",
    "#print('X:\\n', X)\n",
    "\n",
    "# Store the labels/target in variable y (lower case as its a single value)\n",
    "y = personalLoan_df['personal_loan']\n",
    "#print('y:\\n', y)\n",
    "\n",
    "# Split into train/test set\n",
    "X_train, X_test, y_train, y_test = train_test_split(X, \n",
    "                                                    y, \n",
    "                                                    test_size=0.2, # keep 20% for testing\n",
    "                                                    random_state=2 # pass an int for reproducible rtesult\n",
    "                                                    )"
   ]
  },
  {
   "cell_type": "code",
   "execution_count": 84,
   "id": "39fe9734",
   "metadata": {},
   "outputs": [
    {
     "name": "stdout",
     "output_type": "stream",
     "text": [
      "(2735, 4) (2735,)\n",
      "(684, 4) (684,)\n"
     ]
    }
   ],
   "source": [
    "# Check\n",
    "print(X_train.shape, y_train.shape)\n",
    "print(X_test.shape, y_test.shape)"
   ]
  },
  {
   "cell_type": "code",
   "execution_count": 85,
   "id": "453195a8",
   "metadata": {},
   "outputs": [
    {
     "name": "stdout",
     "output_type": "stream",
     "text": [
      "[0. 0. 0. 0. 0.]\n"
     ]
    },
    {
     "name": "stderr",
     "output_type": "stream",
     "text": [
      "/Users/sohilpachbhaiya/miniconda3/lib/python3.10/site-packages/sklearn/linear_model/_logistic.py:458: ConvergenceWarning: lbfgs failed to converge (status=1):\n",
      "STOP: TOTAL NO. of ITERATIONS REACHED LIMIT.\n",
      "\n",
      "Increase the number of iterations (max_iter) or scale the data as shown in:\n",
      "    https://scikit-learn.org/stable/modules/preprocessing.html\n",
      "Please also refer to the documentation for alternative solver options:\n",
      "    https://scikit-learn.org/stable/modules/linear_model.html#logistic-regression\n",
      "  n_iter_i = _check_optimize_result(\n"
     ]
    }
   ],
   "source": [
    "# Import the model library\n",
    "from sklearn.linear_model import LogisticRegression\n",
    "\n",
    "# Instantiate model and fit on training data\n",
    "#lr_model = LogisticRegression(solver='lbfgs')\n",
    "#lr_model.fit(X_train, y_train)\n",
    "# Note the above 2 steps can be combined into a single step\n",
    "# Warning: TOTAL NO. of ITERATIONS REACHED LIMIT, Increase the number of iterations (max_iter)\n",
    "#lr_model = LogisticRegression(solver='lbfgs').fit(X_train, y_train)\n",
    "lr_model = LogisticRegression(solver='lbfgs', max_iter=100).fit(X_train, y_train) # default max_iter is 100\n",
    "\n",
    "# Predict using test data\n",
    "y_pred = lr_model.predict(X_test)\n",
    "\n",
    "# Quick check\n",
    "# Print a few elements from the vector\n",
    "# Slice the elements of the array from the beginning to index 5 (not included)\n",
    "print(y_pred[:5]) # [:5] print first 5 elements\n",
    "# Examples: https://www.w3schools.com/python/numpy_array_slicing.asp"
   ]
  },
  {
   "cell_type": "code",
   "execution_count": 86,
   "id": "b9611ae9",
   "metadata": {},
   "outputs": [
    {
     "name": "stdout",
     "output_type": "stream",
     "text": [
      "[0. 0. 0. 0. 0.]\n"
     ]
    }
   ],
   "source": [
    "# Import the model library\n",
    "from sklearn.neighbors import KNeighborsClassifier\n",
    "\n",
    "# Instantiate model and fit on training data\n",
    "knn_model = KNeighborsClassifier(n_neighbors=5).fit(X_train, y_train)\n",
    "\n",
    "# Predict using test data\n",
    "y_pred = knn_model.predict(X_test)\n",
    "\n",
    "# Quick check\n",
    "print(y_pred[:5])"
   ]
  },
  {
   "cell_type": "code",
   "execution_count": 87,
   "id": "a2405441",
   "metadata": {},
   "outputs": [
    {
     "name": "stdout",
     "output_type": "stream",
     "text": [
      "[195.  93.  81.  93. 189.]\n"
     ]
    }
   ],
   "source": [
    "# Import the model library\n",
    "from sklearn.svm import SVC\n",
    "\n",
    "# Instantiate model and fit on training data\n",
    "svm_model = SVC(kernel='linear', \n",
    "            class_weight='balanced', # penalize\n",
    "            probability=True).fit(X_train, y_train)\n",
    "\n",
    "# Predict using test data\n",
    "y_pred = svm_model.predict(X_test)\n",
    "\n",
    "# Quick check\n",
    "print(y_pred[:5])"
   ]
  },
  {
   "cell_type": "code",
   "execution_count": 88,
   "id": "9b4b84a9",
   "metadata": {},
   "outputs": [
    {
     "name": "stdout",
     "output_type": "stream",
     "text": [
      "[0. 0. 0. 0. 0.]\n"
     ]
    }
   ],
   "source": [
    "# Import the model library\n",
    "from sklearn.ensemble import RandomForestClassifier\n",
    "\n",
    "# Instantiate model and fit on training data\n",
    "rf_model = RandomForestClassifier(n_estimators=100).fit(X_train, y_train)\n",
    "\n",
    "# Predict using test data\n",
    "y_pred = rf_model.predict(X_test)\n",
    "\n",
    "# Quick check\n",
    "print(y_pred[:5])"
   ]
  },
  {
   "cell_type": "code",
   "execution_count": 89,
   "id": "71a3daf0",
   "metadata": {},
   "outputs": [
    {
     "name": "stdout",
     "output_type": "stream",
     "text": [
      "[0. 0. 0. 0. 0.]\n"
     ]
    }
   ],
   "source": [
    "# Import the model library\n",
    "from sklearn.naive_bayes import GaussianNB\n",
    "\n",
    "# Instantiate model and fit on training data\n",
    "nb_model = GaussianNB().fit(X_train, y_train)\n",
    "\n",
    "# Predict using test data\n",
    "y_pred = rf_model.predict(X_test)\n",
    "\n",
    "# Quick check\n",
    "print(y_pred[:5])"
   ]
  },
  {
   "cell_type": "code",
   "execution_count": 90,
   "id": "4394044c",
   "metadata": {},
   "outputs": [
    {
     "name": "stderr",
     "output_type": "stream",
     "text": [
      "/Users/sohilpachbhaiya/miniconda3/lib/python3.10/site-packages/sklearn/linear_model/_logistic.py:458: ConvergenceWarning: lbfgs failed to converge (status=1):\n",
      "STOP: TOTAL NO. of ITERATIONS REACHED LIMIT.\n",
      "\n",
      "Increase the number of iterations (max_iter) or scale the data as shown in:\n",
      "    https://scikit-learn.org/stable/modules/preprocessing.html\n",
      "Please also refer to the documentation for alternative solver options:\n",
      "    https://scikit-learn.org/stable/modules/linear_model.html#logistic-regression\n",
      "  n_iter_i = _check_optimize_result(\n"
     ]
    },
    {
     "data": {
      "text/html": [
       "<style>#sk-container-id-4 {color: black;background-color: white;}#sk-container-id-4 pre{padding: 0;}#sk-container-id-4 div.sk-toggleable {background-color: white;}#sk-container-id-4 label.sk-toggleable__label {cursor: pointer;display: block;width: 100%;margin-bottom: 0;padding: 0.3em;box-sizing: border-box;text-align: center;}#sk-container-id-4 label.sk-toggleable__label-arrow:before {content: \"▸\";float: left;margin-right: 0.25em;color: #696969;}#sk-container-id-4 label.sk-toggleable__label-arrow:hover:before {color: black;}#sk-container-id-4 div.sk-estimator:hover label.sk-toggleable__label-arrow:before {color: black;}#sk-container-id-4 div.sk-toggleable__content {max-height: 0;max-width: 0;overflow: hidden;text-align: left;background-color: #f0f8ff;}#sk-container-id-4 div.sk-toggleable__content pre {margin: 0.2em;color: black;border-radius: 0.25em;background-color: #f0f8ff;}#sk-container-id-4 input.sk-toggleable__control:checked~div.sk-toggleable__content {max-height: 200px;max-width: 100%;overflow: auto;}#sk-container-id-4 input.sk-toggleable__control:checked~label.sk-toggleable__label-arrow:before {content: \"▾\";}#sk-container-id-4 div.sk-estimator input.sk-toggleable__control:checked~label.sk-toggleable__label {background-color: #d4ebff;}#sk-container-id-4 div.sk-label input.sk-toggleable__control:checked~label.sk-toggleable__label {background-color: #d4ebff;}#sk-container-id-4 input.sk-hidden--visually {border: 0;clip: rect(1px 1px 1px 1px);clip: rect(1px, 1px, 1px, 1px);height: 1px;margin: -1px;overflow: hidden;padding: 0;position: absolute;width: 1px;}#sk-container-id-4 div.sk-estimator {font-family: monospace;background-color: #f0f8ff;border: 1px dotted black;border-radius: 0.25em;box-sizing: border-box;margin-bottom: 0.5em;}#sk-container-id-4 div.sk-estimator:hover {background-color: #d4ebff;}#sk-container-id-4 div.sk-parallel-item::after {content: \"\";width: 100%;border-bottom: 1px solid gray;flex-grow: 1;}#sk-container-id-4 div.sk-label:hover label.sk-toggleable__label {background-color: #d4ebff;}#sk-container-id-4 div.sk-serial::before {content: \"\";position: absolute;border-left: 1px solid gray;box-sizing: border-box;top: 0;bottom: 0;left: 50%;z-index: 0;}#sk-container-id-4 div.sk-serial {display: flex;flex-direction: column;align-items: center;background-color: white;padding-right: 0.2em;padding-left: 0.2em;position: relative;}#sk-container-id-4 div.sk-item {position: relative;z-index: 1;}#sk-container-id-4 div.sk-parallel {display: flex;align-items: stretch;justify-content: center;background-color: white;position: relative;}#sk-container-id-4 div.sk-item::before, #sk-container-id-4 div.sk-parallel-item::before {content: \"\";position: absolute;border-left: 1px solid gray;box-sizing: border-box;top: 0;bottom: 0;left: 50%;z-index: -1;}#sk-container-id-4 div.sk-parallel-item {display: flex;flex-direction: column;z-index: 1;position: relative;background-color: white;}#sk-container-id-4 div.sk-parallel-item:first-child::after {align-self: flex-end;width: 50%;}#sk-container-id-4 div.sk-parallel-item:last-child::after {align-self: flex-start;width: 50%;}#sk-container-id-4 div.sk-parallel-item:only-child::after {width: 0;}#sk-container-id-4 div.sk-dashed-wrapped {border: 1px dashed gray;margin: 0 0.4em 0.5em 0.4em;box-sizing: border-box;padding-bottom: 0.4em;background-color: white;}#sk-container-id-4 div.sk-label label {font-family: monospace;font-weight: bold;display: inline-block;line-height: 1.2em;}#sk-container-id-4 div.sk-label-container {text-align: center;}#sk-container-id-4 div.sk-container {/* jupyter's `normalize.less` sets `[hidden] { display: none; }` but bootstrap.min.css set `[hidden] { display: none !important; }` so we also need the `!important` here to be able to override the default hidden behavior on the sphinx rendered scikit-learn.org. See: https://github.com/scikit-learn/scikit-learn/issues/21755 */display: inline-block !important;position: relative;}#sk-container-id-4 div.sk-text-repr-fallback {display: none;}</style><div id=\"sk-container-id-4\" class=\"sk-top-container\"><div class=\"sk-text-repr-fallback\"><pre>LogisticRegression(max_iter=200)</pre><b>In a Jupyter environment, please rerun this cell to show the HTML representation or trust the notebook. <br />On GitHub, the HTML representation is unable to render, please try loading this page with nbviewer.org.</b></div><div class=\"sk-container\" hidden><div class=\"sk-item\"><div class=\"sk-estimator sk-toggleable\"><input class=\"sk-toggleable__control sk-hidden--visually\" id=\"sk-estimator-id-4\" type=\"checkbox\" checked><label for=\"sk-estimator-id-4\" class=\"sk-toggleable__label sk-toggleable__label-arrow\">LogisticRegression</label><div class=\"sk-toggleable__content\"><pre>LogisticRegression(max_iter=200)</pre></div></div></div></div></div>"
      ],
      "text/plain": [
       "LogisticRegression(max_iter=200)"
      ]
     },
     "execution_count": 90,
     "metadata": {},
     "output_type": "execute_result"
    }
   ],
   "source": [
    "# Build the LR model\n",
    "#lr_model = LogisticRegression(solver='lbfgs') # getting a warning with default max_iter of 100\n",
    "#lr_model = LogisticRegression(solver='lbfgs', max_iter=200)\n",
    "lr_model = LogisticRegression(max_iter=200)\n",
    "lr_model.fit(X_train, y_train)"
   ]
  },
  {
   "cell_type": "code",
   "execution_count": 91,
   "id": "26ef368f",
   "metadata": {},
   "outputs": [
    {
     "name": "stdout",
     "output_type": "stream",
     "text": [
      "True: [  0. 135.   0. 126.   0.   0. 299. 225.   0.   0. 287.  90. 270. 164.\n",
      "   0.   0.   0. 196. 203.   0. 117.   0.   0. 206.   0.]\n",
      "Pred: [0. 0. 0. 0. 0. 0. 0. 0. 0. 0. 0. 0. 0. 0. 0. 0. 0. 0. 0. 0. 0. 0. 0. 0.\n",
      " 0.]\n"
     ]
    }
   ],
   "source": [
    "# Use the testing set (i.e. X-test)  to make predictions\n",
    "y_pred = lr_model.predict(X_test)\n",
    "\n",
    "# Compare the actual (true) labels or categories with the predited ones\n",
    "print('True:', y_test.values[0:25])\n",
    "print('Pred:', y_pred[0:25])"
   ]
  },
  {
   "cell_type": "code",
   "execution_count": 92,
   "id": "c228b638",
   "metadata": {},
   "outputs": [
    {
     "name": "stdout",
     "output_type": "stream",
     "text": [
      "classification_accuracy: 0.564327485380117\n",
      "Is this a good classifier?\n"
     ]
    }
   ],
   "source": [
    "classification_accuracy = accuracy_score(y_test, y_pred)\n",
    "print(f\"classification_accuracy: {classification_accuracy}\")\n",
    "print(f\"Is this a good classifier?\")"
   ]
  },
  {
   "cell_type": "code",
   "execution_count": 93,
   "id": "b8bf528c",
   "metadata": {},
   "outputs": [
    {
     "name": "stdout",
     "output_type": "stream",
     "text": [
      "null accuracy: 64.31286549707602\n",
      "No machine learning was used to build this classifer!\n"
     ]
    }
   ],
   "source": [
    "# y_test = list of labels in the testing set\n",
    "# y_pred = extracted from the model\n",
    "\n",
    "# This formula will only work for binary classification problems\n",
    "null_accuracy = max(y_test.mean(), 1 - y_test.mean())\n",
    "print(f\"null accuracy: {null_accuracy}\")\n",
    "print(f\"No machine learning was used to build this classifer!\")"
   ]
  },
  {
   "cell_type": "code",
   "execution_count": 94,
   "id": "ce8a17c3",
   "metadata": {},
   "outputs": [
    {
     "name": "stdout",
     "output_type": "stream",
     "text": [
      "confusion matrix:\n",
      " [[386   0   0 ...   0   0   0]\n",
      " [  6   0   0 ...   0   0   0]\n",
      " [  4   0   0 ...   0   0   0]\n",
      " ...\n",
      " [  1   0   0 ...   0   0   0]\n",
      " [  1   0   0 ...   0   0   0]\n",
      " [  1   0   0 ...   0   0   0]]\n",
      "There are a lot of cases that are mis-classified\n",
      "18 cases are classified as positives when they are not - called false positives (FP)\n",
      "19 cases are classified as negatives when they are not - called false negatives (FN)\n",
      "A FP means you are telling someone that he has diabetes (or cancer) when he doesn't have it\n",
      "A FN means you are telling someone that he does not have diabetes (or cancer) when in fact he has it\n",
      "If you had to minimise FP and FN, which one would you choose in this context?\n"
     ]
    }
   ],
   "source": [
    "cf_matrix = confusion_matrix(y_test, y_pred)\n",
    "print(f\"confusion matrix:\\n {cf_matrix}\") #\\n means new line i.e. next line\n",
    "print(f\"There are a lot of cases that are mis-classified\")\n",
    "print(f\"18 cases are classified as positives when they are not - called false positives (FP)\")\n",
    "print(f\"19 cases are classified as negatives when they are not - called false negatives (FN)\")\n",
    "print(f\"A FP means you are telling someone that he has diabetes (or cancer) when he doesn't have it\")\n",
    "print(f\"A FN means you are telling someone that he does not have diabetes (or cancer) when in fact he has it\")\n",
    "print(f\"If you had to minimise FP and FN, which one would you choose in this context?\")"
   ]
  },
  {
   "cell_type": "code",
   "execution_count": 95,
   "id": "ff7394d2",
   "metadata": {},
   "outputs": [
    {
     "data": {
      "image/png": "[encoded data removed]",
      "text/plain": [
       "<Figure size 432x288 with 2 Axes>"
      ]
     },
     "metadata": {
      "needs_background": "light"
     },
     "output_type": "display_data"
    }
   ],
   "source": [
    "# Visualise the confusion matrix as a Seaborn Heatmap\n",
    "sns.heatmap(cf_matrix, annot=True, fmt=\"d\", yticklabels=False, cmap=\"YlGnBu\")\n",
    "\n",
    "# If you want to save the graph to disk\n",
    "plt.tight_layout() # automatically adjusts subplot to fit in the figure area\n",
    "plt.savefig('confusion-matrix-initial.png', dpi=300) # dpi=300 is print quality"
   ]
  },
  {
   "cell_type": "code",
   "execution_count": 120,
   "id": "dc87b626",
   "metadata": {},
   "outputs": [
    {
     "ename": "ValueError",
     "evalue": "Target is multiclass but average='binary'. Please choose another average setting, one of [None, 'micro', 'macro', 'weighted'].",
     "output_type": "error",
     "traceback": [
      "\u001b[0;31m---------------------------------------------------------------------------\u001b[0m",
      "\u001b[0;31mValueError\u001b[0m                                Traceback (most recent call last)",
      "Input \u001b[0;32mIn [120]\u001b[0m, in \u001b[0;36m<cell line: 1>\u001b[0;34m()\u001b[0m\n\u001b[0;32m----> 1\u001b[0m recall \u001b[38;5;241m=\u001b[39m \u001b[43mrecall_score\u001b[49m\u001b[43m(\u001b[49m\u001b[43my_test\u001b[49m\u001b[43m,\u001b[49m\u001b[43m \u001b[49m\u001b[43my_pred\u001b[49m\u001b[43m)\u001b[49m\n\u001b[1;32m      2\u001b[0m \u001b[38;5;28mprint\u001b[39m(\u001b[38;5;124mf\u001b[39m\u001b[38;5;124m\"\u001b[39m\u001b[38;5;124mrecall: \u001b[39m\u001b[38;5;132;01m{\u001b[39;00mrecall\u001b[38;5;132;01m}\u001b[39;00m\u001b[38;5;124m\"\u001b[39m)\n",
      "File \u001b[0;32m~/miniconda3/lib/python3.10/site-packages/sklearn/metrics/_classification.py:2098\u001b[0m, in \u001b[0;36mrecall_score\u001b[0;34m(y_true, y_pred, labels, pos_label, average, sample_weight, zero_division)\u001b[0m\n\u001b[1;32m   1967\u001b[0m \u001b[38;5;28;01mdef\u001b[39;00m \u001b[38;5;21mrecall_score\u001b[39m(\n\u001b[1;32m   1968\u001b[0m     y_true,\n\u001b[1;32m   1969\u001b[0m     y_pred,\n\u001b[0;32m   (...)\u001b[0m\n\u001b[1;32m   1975\u001b[0m     zero_division\u001b[38;5;241m=\u001b[39m\u001b[38;5;124m\"\u001b[39m\u001b[38;5;124mwarn\u001b[39m\u001b[38;5;124m\"\u001b[39m,\n\u001b[1;32m   1976\u001b[0m ):\n\u001b[1;32m   1977\u001b[0m     \u001b[38;5;124;03m\"\"\"Compute the recall.\u001b[39;00m\n\u001b[1;32m   1978\u001b[0m \n\u001b[1;32m   1979\u001b[0m \u001b[38;5;124;03m    The recall is the ratio ``tp / (tp + fn)`` where ``tp`` is the number of\u001b[39;00m\n\u001b[0;32m   (...)\u001b[0m\n\u001b[1;32m   2096\u001b[0m \u001b[38;5;124;03m    array([1. , 1. , 0.5])\u001b[39;00m\n\u001b[1;32m   2097\u001b[0m \u001b[38;5;124;03m    \"\"\"\u001b[39;00m\n\u001b[0;32m-> 2098\u001b[0m     _, r, _, _ \u001b[38;5;241m=\u001b[39m \u001b[43mprecision_recall_fscore_support\u001b[49m\u001b[43m(\u001b[49m\n\u001b[1;32m   2099\u001b[0m \u001b[43m        \u001b[49m\u001b[43my_true\u001b[49m\u001b[43m,\u001b[49m\n\u001b[1;32m   2100\u001b[0m \u001b[43m        \u001b[49m\u001b[43my_pred\u001b[49m\u001b[43m,\u001b[49m\n\u001b[1;32m   2101\u001b[0m \u001b[43m        \u001b[49m\u001b[43mlabels\u001b[49m\u001b[38;5;241;43m=\u001b[39;49m\u001b[43mlabels\u001b[49m\u001b[43m,\u001b[49m\n\u001b[1;32m   2102\u001b[0m \u001b[43m        \u001b[49m\u001b[43mpos_label\u001b[49m\u001b[38;5;241;43m=\u001b[39;49m\u001b[43mpos_label\u001b[49m\u001b[43m,\u001b[49m\n\u001b[1;32m   2103\u001b[0m \u001b[43m        \u001b[49m\u001b[43maverage\u001b[49m\u001b[38;5;241;43m=\u001b[39;49m\u001b[43maverage\u001b[49m\u001b[43m,\u001b[49m\n\u001b[1;32m   2104\u001b[0m \u001b[43m        \u001b[49m\u001b[43mwarn_for\u001b[49m\u001b[38;5;241;43m=\u001b[39;49m\u001b[43m(\u001b[49m\u001b[38;5;124;43m\"\u001b[39;49m\u001b[38;5;124;43mrecall\u001b[39;49m\u001b[38;5;124;43m\"\u001b[39;49m\u001b[43m,\u001b[49m\u001b[43m)\u001b[49m\u001b[43m,\u001b[49m\n\u001b[1;32m   2105\u001b[0m \u001b[43m        \u001b[49m\u001b[43msample_weight\u001b[49m\u001b[38;5;241;43m=\u001b[39;49m\u001b[43msample_weight\u001b[49m\u001b[43m,\u001b[49m\n\u001b[1;32m   2106\u001b[0m \u001b[43m        \u001b[49m\u001b[43mzero_division\u001b[49m\u001b[38;5;241;43m=\u001b[39;49m\u001b[43mzero_division\u001b[49m\u001b[43m,\u001b[49m\n\u001b[1;32m   2107\u001b[0m \u001b[43m    \u001b[49m\u001b[43m)\u001b[49m\n\u001b[1;32m   2108\u001b[0m     \u001b[38;5;28;01mreturn\u001b[39;00m r\n",
      "File \u001b[0;32m~/miniconda3/lib/python3.10/site-packages/sklearn/metrics/_classification.py:1573\u001b[0m, in \u001b[0;36mprecision_recall_fscore_support\u001b[0;34m(y_true, y_pred, beta, labels, pos_label, average, warn_for, sample_weight, zero_division)\u001b[0m\n\u001b[1;32m   1571\u001b[0m \u001b[38;5;28;01mif\u001b[39;00m beta \u001b[38;5;241m<\u001b[39m \u001b[38;5;241m0\u001b[39m:\n\u001b[1;32m   1572\u001b[0m     \u001b[38;5;28;01mraise\u001b[39;00m \u001b[38;5;167;01mValueError\u001b[39;00m(\u001b[38;5;124m\"\u001b[39m\u001b[38;5;124mbeta should be >=0 in the F-beta score\u001b[39m\u001b[38;5;124m\"\u001b[39m)\n\u001b[0;32m-> 1573\u001b[0m labels \u001b[38;5;241m=\u001b[39m \u001b[43m_check_set_wise_labels\u001b[49m\u001b[43m(\u001b[49m\u001b[43my_true\u001b[49m\u001b[43m,\u001b[49m\u001b[43m \u001b[49m\u001b[43my_pred\u001b[49m\u001b[43m,\u001b[49m\u001b[43m \u001b[49m\u001b[43maverage\u001b[49m\u001b[43m,\u001b[49m\u001b[43m \u001b[49m\u001b[43mlabels\u001b[49m\u001b[43m,\u001b[49m\u001b[43m \u001b[49m\u001b[43mpos_label\u001b[49m\u001b[43m)\u001b[49m\n\u001b[1;32m   1575\u001b[0m \u001b[38;5;66;03m# Calculate tp_sum, pred_sum, true_sum ###\u001b[39;00m\n\u001b[1;32m   1576\u001b[0m samplewise \u001b[38;5;241m=\u001b[39m average \u001b[38;5;241m==\u001b[39m \u001b[38;5;124m\"\u001b[39m\u001b[38;5;124msamples\u001b[39m\u001b[38;5;124m\"\u001b[39m\n",
      "File \u001b[0;32m~/miniconda3/lib/python3.10/site-packages/sklearn/metrics/_classification.py:1391\u001b[0m, in \u001b[0;36m_check_set_wise_labels\u001b[0;34m(y_true, y_pred, average, labels, pos_label)\u001b[0m\n\u001b[1;32m   1389\u001b[0m         \u001b[38;5;28;01mif\u001b[39;00m y_type \u001b[38;5;241m==\u001b[39m \u001b[38;5;124m\"\u001b[39m\u001b[38;5;124mmulticlass\u001b[39m\u001b[38;5;124m\"\u001b[39m:\n\u001b[1;32m   1390\u001b[0m             average_options\u001b[38;5;241m.\u001b[39mremove(\u001b[38;5;124m\"\u001b[39m\u001b[38;5;124msamples\u001b[39m\u001b[38;5;124m\"\u001b[39m)\n\u001b[0;32m-> 1391\u001b[0m         \u001b[38;5;28;01mraise\u001b[39;00m \u001b[38;5;167;01mValueError\u001b[39;00m(\n\u001b[1;32m   1392\u001b[0m             \u001b[38;5;124m\"\u001b[39m\u001b[38;5;124mTarget is \u001b[39m\u001b[38;5;132;01m%s\u001b[39;00m\u001b[38;5;124m but average=\u001b[39m\u001b[38;5;124m'\u001b[39m\u001b[38;5;124mbinary\u001b[39m\u001b[38;5;124m'\u001b[39m\u001b[38;5;124m. Please \u001b[39m\u001b[38;5;124m\"\u001b[39m\n\u001b[1;32m   1393\u001b[0m             \u001b[38;5;124m\"\u001b[39m\u001b[38;5;124mchoose another average setting, one of \u001b[39m\u001b[38;5;132;01m%r\u001b[39;00m\u001b[38;5;124m.\u001b[39m\u001b[38;5;124m\"\u001b[39m \u001b[38;5;241m%\u001b[39m (y_type, average_options)\n\u001b[1;32m   1394\u001b[0m         )\n\u001b[1;32m   1395\u001b[0m \u001b[38;5;28;01melif\u001b[39;00m pos_label \u001b[38;5;129;01mnot\u001b[39;00m \u001b[38;5;129;01min\u001b[39;00m (\u001b[38;5;28;01mNone\u001b[39;00m, \u001b[38;5;241m1\u001b[39m):\n\u001b[1;32m   1396\u001b[0m     warnings\u001b[38;5;241m.\u001b[39mwarn(\n\u001b[1;32m   1397\u001b[0m         \u001b[38;5;124m\"\u001b[39m\u001b[38;5;124mNote that pos_label (set to \u001b[39m\u001b[38;5;132;01m%r\u001b[39;00m\u001b[38;5;124m) is ignored when \u001b[39m\u001b[38;5;124m\"\u001b[39m\n\u001b[1;32m   1398\u001b[0m         \u001b[38;5;124m\"\u001b[39m\u001b[38;5;124maverage != \u001b[39m\u001b[38;5;124m'\u001b[39m\u001b[38;5;124mbinary\u001b[39m\u001b[38;5;124m'\u001b[39m\u001b[38;5;124m (got \u001b[39m\u001b[38;5;132;01m%r\u001b[39;00m\u001b[38;5;124m). You may use \u001b[39m\u001b[38;5;124m\"\u001b[39m\n\u001b[0;32m   (...)\u001b[0m\n\u001b[1;32m   1401\u001b[0m         \u001b[38;5;167;01mUserWarning\u001b[39;00m,\n\u001b[1;32m   1402\u001b[0m     )\n",
      "\u001b[0;31mValueError\u001b[0m: Target is multiclass but average='binary'. Please choose another average setting, one of [None, 'micro', 'macro', 'weighted']."
     ]
    }
   ],
   "source": [
    "recall = recall_score(y_test, y_pred)\n",
    "print(f\"recall: {recall}\")"
   ]
  },
  {
   "cell_type": "code",
   "execution_count": 97,
   "id": "3dfe0734",
   "metadata": {},
   "outputs": [
    {
     "name": "stdout",
     "output_type": "stream",
     "text": [
      "precision: 0.564327485380117\n"
     ]
    }
   ],
   "source": [
    "precision = precision_score(y_test, y_pred, average='micro')\n",
    "print(f\"precision: {precision}\")"
   ]
  },
  {
   "cell_type": "code",
   "execution_count": 98,
   "id": "b3ef76d4",
   "metadata": {},
   "outputs": [
    {
     "name": "stdout",
     "output_type": "stream",
     "text": [
      "F1 score: 0.004715655732698064\n"
     ]
    }
   ],
   "source": [
    "\n",
    "f1 = f1_score(y_test, y_pred, average='macro')\n",
    "print(f\"F1 score: {f1}\")"
   ]
  },
  {
   "cell_type": "code",
   "execution_count": 119,
   "id": "b4344238",
   "metadata": {},
   "outputs": [
    {
     "ename": "ValueError",
     "evalue": "too many values to unpack (expected 4)",
     "output_type": "error",
     "traceback": [
      "\u001b[0;31m---------------------------------------------------------------------------\u001b[0m",
      "\u001b[0;31mValueError\u001b[0m                                Traceback (most recent call last)",
      "Input \u001b[0;32mIn [119]\u001b[0m, in \u001b[0;36m<cell line: 11>\u001b[0;34m()\u001b[0m\n\u001b[1;32m      1\u001b[0m \u001b[38;5;66;03m# Either\u001b[39;00m\n\u001b[1;32m      2\u001b[0m \u001b[38;5;66;03m# Method 1 - Extract tn, fp, fun and tp manually from the confusion matrix\u001b[39;00m\n\u001b[1;32m      3\u001b[0m \u001b[38;5;66;03m#cf_matrix = confusion_matrix(y_test, y_pred)\u001b[39;00m\n\u001b[0;32m   (...)\u001b[0m\n\u001b[1;32m      9\u001b[0m \u001b[38;5;66;03m# Or\u001b[39;00m\n\u001b[1;32m     10\u001b[0m \u001b[38;5;66;03m# Method2. Use numpy's ravel() function to flatten the 2D confusion matrix to a 1D array\u001b[39;00m\n\u001b[0;32m---> 11\u001b[0m tn, fp, fn, tp \u001b[38;5;241m=\u001b[39m confusion_matrix(y_test, y_pred)\u001b[38;5;241m.\u001b[39mravel()\n\u001b[1;32m     13\u001b[0m \u001b[38;5;66;03m# Print\u001b[39;00m\n\u001b[1;32m     14\u001b[0m \u001b[38;5;28mprint\u001b[39m(\u001b[38;5;124mf\u001b[39m\u001b[38;5;124m\"\u001b[39m\u001b[38;5;124mtn \u001b[39m\u001b[38;5;132;01m{\u001b[39;00mtn\u001b[38;5;132;01m}\u001b[39;00m\u001b[38;5;124m\"\u001b[39m)\n",
      "\u001b[0;31mValueError\u001b[0m: too many values to unpack (expected 4)"
     ]
    }
   ],
   "source": [
    "# Either\n",
    "# Method 1 - Extract tn, fp, fun and tp manually from the confusion matrix\n",
    "#cf_matrix = confusion_matrix(y_test, y_pred)\n",
    "# NOTE: the positions of tn, fp. fn, tp in the matrix is not standard! Check carefully\n",
    "#tp = cf_matrix[1, 1] # row=1, col=1 - second row, second column\n",
    "#tn = cf_matrix[0, 0] # row=0, col=0 - first row, first column\n",
    "#fp = cf_matrix[0, 1] # row=0, col=1 - first row, second column\n",
    "#fn = cf_matrix[1, 0] # row=1, col=0 - second row, first column\n",
    "# Or\n",
    "# Method2. Use numpy's ravel() function to flatten the 2D confusion matrix to a 1D array\n",
    "tn, fp, fn, tp = confusion_matrix(y_test, y_pred).ravel()\n",
    "\n",
    "# Print\n",
    "print(f\"tn {tn}\")\n",
    "print(f\"fp {fp}\" )\n",
    "print(f\"fn {fn}\")\n",
    "print(f\"tp {tp}\")\n",
    "\n",
    "# Precision\n",
    "precision = tp / (tp + fp)\n",
    "print(f\"precision: {precision}\")\n",
    "\n",
    "# Recall\n",
    "recall = tp / (tp + fn)\n",
    "print(f\"recall: {recall}\")\n",
    "\n",
    "# F1\n",
    "f1 = 2 * (precision * recall) / (precision + recall)\n",
    "print(f\"F1 score: {f1}\")"
   ]
  },
  {
   "cell_type": "code",
   "execution_count": 103,
   "id": "0117738c",
   "metadata": {},
   "outputs": [
    {
     "ename": "SyntaxError",
     "evalue": "incomplete input (3450035828.py, line 1)",
     "output_type": "error",
     "traceback": [
      "\u001b[0;36m  Input \u001b[0;32mIn [103]\u001b[0;36m\u001b[0m\n\u001b[0;31m    print(classification_report(y_te4)\u001b[0m\n\u001b[0m                                      ^\u001b[0m\n\u001b[0;31mSyntaxError\u001b[0m\u001b[0;31m:\u001b[0m incomplete input\n"
     ]
    }
   ],
   "source": [
    "print(classification_report(y_te4)"
   ]
  },
  {
   "cell_type": "code",
   "execution_count": 118,
   "id": "5ad537cb",
   "metadata": {},
   "outputs": [
    {
     "ename": "ValueError",
     "evalue": "multiclass format is not supported",
     "output_type": "error",
     "traceback": [
      "\u001b[0;31m---------------------------------------------------------------------------\u001b[0m",
      "\u001b[0;31mValueError\u001b[0m                                Traceback (most recent call last)",
      "Input \u001b[0;32mIn [118]\u001b[0m, in \u001b[0;36m<cell line: 3>\u001b[0;34m()\u001b[0m\n\u001b[1;32m      1\u001b[0m \u001b[38;5;66;03m# Call function roc_curve() to get the false positive rates (fpr) and true positive rates\u001b[39;00m\n\u001b[1;32m      2\u001b[0m \u001b[38;5;66;03m# Need to pass the list of actual and predicted classes as parameters to the function\u001b[39;00m\n\u001b[0;32m----> 3\u001b[0m fpr, tpr, thresholds \u001b[38;5;241m=\u001b[39m \u001b[43mroc_curve\u001b[49m\u001b[43m(\u001b[49m\u001b[43my_test\u001b[49m\u001b[43m,\u001b[49m\u001b[43my_pred\u001b[49m\u001b[43m)\u001b[49m\n\u001b[1;32m      4\u001b[0m \u001b[38;5;66;03m#print(fpr)\u001b[39;00m\n\u001b[1;32m      5\u001b[0m \u001b[38;5;66;03m#print(tpr)\u001b[39;00m\n\u001b[1;32m      6\u001b[0m \n\u001b[1;32m      7\u001b[0m \u001b[38;5;66;03m# Call the auc() function to calculate the area under the curve\u001b[39;00m\n\u001b[1;32m      8\u001b[0m \u001b[38;5;66;03m# Need to pass the false positive rates (fpr) and true positive rates as parameters to the function\u001b[39;00m\n\u001b[1;32m      9\u001b[0m roc_auc \u001b[38;5;241m=\u001b[39m auc(fpr,tpr)\n",
      "File \u001b[0;32m~/miniconda3/lib/python3.10/site-packages/sklearn/metrics/_ranking.py:992\u001b[0m, in \u001b[0;36mroc_curve\u001b[0;34m(y_true, y_score, pos_label, sample_weight, drop_intermediate)\u001b[0m\n\u001b[1;32m    904\u001b[0m \u001b[38;5;28;01mdef\u001b[39;00m \u001b[38;5;21mroc_curve\u001b[39m(\n\u001b[1;32m    905\u001b[0m     y_true, y_score, \u001b[38;5;241m*\u001b[39m, pos_label\u001b[38;5;241m=\u001b[39m\u001b[38;5;28;01mNone\u001b[39;00m, sample_weight\u001b[38;5;241m=\u001b[39m\u001b[38;5;28;01mNone\u001b[39;00m, drop_intermediate\u001b[38;5;241m=\u001b[39m\u001b[38;5;28;01mTrue\u001b[39;00m\n\u001b[1;32m    906\u001b[0m ):\n\u001b[1;32m    907\u001b[0m     \u001b[38;5;124;03m\"\"\"Compute Receiver operating characteristic (ROC).\u001b[39;00m\n\u001b[1;32m    908\u001b[0m \n\u001b[1;32m    909\u001b[0m \u001b[38;5;124;03m    Note: this implementation is restricted to the binary classification task.\u001b[39;00m\n\u001b[0;32m   (...)\u001b[0m\n\u001b[1;32m    990\u001b[0m \u001b[38;5;124;03m    array([1.8 , 0.8 , 0.4 , 0.35, 0.1 ])\u001b[39;00m\n\u001b[1;32m    991\u001b[0m \u001b[38;5;124;03m    \"\"\"\u001b[39;00m\n\u001b[0;32m--> 992\u001b[0m     fps, tps, thresholds \u001b[38;5;241m=\u001b[39m \u001b[43m_binary_clf_curve\u001b[49m\u001b[43m(\u001b[49m\n\u001b[1;32m    993\u001b[0m \u001b[43m        \u001b[49m\u001b[43my_true\u001b[49m\u001b[43m,\u001b[49m\u001b[43m \u001b[49m\u001b[43my_score\u001b[49m\u001b[43m,\u001b[49m\u001b[43m \u001b[49m\u001b[43mpos_label\u001b[49m\u001b[38;5;241;43m=\u001b[39;49m\u001b[43mpos_label\u001b[49m\u001b[43m,\u001b[49m\u001b[43m \u001b[49m\u001b[43msample_weight\u001b[49m\u001b[38;5;241;43m=\u001b[39;49m\u001b[43msample_weight\u001b[49m\n\u001b[1;32m    994\u001b[0m \u001b[43m    \u001b[49m\u001b[43m)\u001b[49m\n\u001b[1;32m    996\u001b[0m     \u001b[38;5;66;03m# Attempt to drop thresholds corresponding to points in between and\u001b[39;00m\n\u001b[1;32m    997\u001b[0m     \u001b[38;5;66;03m# collinear with other points. These are always suboptimal and do not\u001b[39;00m\n\u001b[1;32m    998\u001b[0m     \u001b[38;5;66;03m# appear on a plotted ROC curve (and thus do not affect the AUC).\u001b[39;00m\n\u001b[0;32m   (...)\u001b[0m\n\u001b[1;32m   1003\u001b[0m     \u001b[38;5;66;03m# but does not drop more complicated cases like fps = [1, 3, 7],\u001b[39;00m\n\u001b[1;32m   1004\u001b[0m     \u001b[38;5;66;03m# tps = [1, 2, 4]; there is no harm in keeping too many thresholds.\u001b[39;00m\n\u001b[1;32m   1005\u001b[0m     \u001b[38;5;28;01mif\u001b[39;00m drop_intermediate \u001b[38;5;129;01mand\u001b[39;00m \u001b[38;5;28mlen\u001b[39m(fps) \u001b[38;5;241m>\u001b[39m \u001b[38;5;241m2\u001b[39m:\n",
      "File \u001b[0;32m~/miniconda3/lib/python3.10/site-packages/sklearn/metrics/_ranking.py:749\u001b[0m, in \u001b[0;36m_binary_clf_curve\u001b[0;34m(y_true, y_score, pos_label, sample_weight)\u001b[0m\n\u001b[1;32m    747\u001b[0m y_type \u001b[38;5;241m=\u001b[39m type_of_target(y_true, input_name\u001b[38;5;241m=\u001b[39m\u001b[38;5;124m\"\u001b[39m\u001b[38;5;124my_true\u001b[39m\u001b[38;5;124m\"\u001b[39m)\n\u001b[1;32m    748\u001b[0m \u001b[38;5;28;01mif\u001b[39;00m \u001b[38;5;129;01mnot\u001b[39;00m (y_type \u001b[38;5;241m==\u001b[39m \u001b[38;5;124m\"\u001b[39m\u001b[38;5;124mbinary\u001b[39m\u001b[38;5;124m\"\u001b[39m \u001b[38;5;129;01mor\u001b[39;00m (y_type \u001b[38;5;241m==\u001b[39m \u001b[38;5;124m\"\u001b[39m\u001b[38;5;124mmulticlass\u001b[39m\u001b[38;5;124m\"\u001b[39m \u001b[38;5;129;01mand\u001b[39;00m pos_label \u001b[38;5;129;01mis\u001b[39;00m \u001b[38;5;129;01mnot\u001b[39;00m \u001b[38;5;28;01mNone\u001b[39;00m)):\n\u001b[0;32m--> 749\u001b[0m     \u001b[38;5;28;01mraise\u001b[39;00m \u001b[38;5;167;01mValueError\u001b[39;00m(\u001b[38;5;124m\"\u001b[39m\u001b[38;5;132;01m{0}\u001b[39;00m\u001b[38;5;124m format is not supported\u001b[39m\u001b[38;5;124m\"\u001b[39m\u001b[38;5;241m.\u001b[39mformat(y_type))\n\u001b[1;32m    751\u001b[0m check_consistent_length(y_true, y_score, sample_weight)\n\u001b[1;32m    752\u001b[0m y_true \u001b[38;5;241m=\u001b[39m column_or_1d(y_true)\n",
      "\u001b[0;31mValueError\u001b[0m: multiclass format is not supported"
     ]
    }
   ],
   "source": [
    "# Call function roc_curve() to get the false positive rates (fpr) and true positive rates\n",
    "# Need to pass the list of actual and predicted classes as parameters to the function\n",
    "fpr, tpr, thresholds = roc_curve(y_test,y_pred)\n",
    "#print(fpr)\n",
    "#print(tpr)\n",
    "\n",
    "# Call the auc() function to calculate the area under the curve\n",
    "# Need to pass the false positive rates (fpr) and true positive rates as parameters to the function\n",
    "roc_auc = auc(fpr,tpr)\n",
    "print(f'AUC: {roc_auc:0.2f}') # float 2 places of decimal\n",
    "\n",
    "# Plot ROC curve\n",
    "plt.figure()\n",
    "plt.plot(fpr,tpr,label='ROC curve(area= %2.f)' %roc_auc)\n",
    "plt.plot([0,1],[0,1],'k--')\n",
    "plt.xlim([0.0,1.0])\n",
    "plt.ylim([0.0,1.05])\n",
    "plt.xlabel('False positive rate')\n",
    "plt.ylabel('True positive rate')\n",
    "plt.title('ROC curve')\n",
    "plt.legend(loc='lower right')\n",
    "plt.grid()\n",
    "#plt.show()\n",
    "\n",
    "# If you want to save the graph to disk\n",
    "plt.tight_layout() # automatically adjusts subplot to fit in the figure area\n",
    "plt.savefig('roc-curve-initial.png', dpi=300) # dpi=300 is print quality"
   ]
  },
  {
   "cell_type": "code",
   "execution_count": 105,
   "id": "a5a90336",
   "metadata": {},
   "outputs": [
    {
     "data": {
      "text/plain": [
       "(2735, 4)"
      ]
     },
     "execution_count": 105,
     "metadata": {},
     "output_type": "execute_result"
    }
   ],
   "source": [
    "# (614, 8) ==> 9 features\n",
    "X_train.shape"
   ]
  },
  {
   "cell_type": "code",
   "execution_count": 106,
   "id": "6904c766",
   "metadata": {},
   "outputs": [],
   "source": [
    "# Library for pickling\n",
    "import joblib\n",
    "\n",
    "# Also need pandas and nympy for some tasks\n",
    "import pandas as pd\n",
    "import numpy as np\n",
    "\n",
    "# Library for splitting the data into train and test sets\n",
    "from sklearn.model_selection import train_test_split \n",
    "\n",
    "# Libraries to select k best features\n",
    "from sklearn.feature_selection import SelectKBest\n",
    "from sklearn.feature_selection import chi2"
   ]
  },
  {
   "cell_type": "markdown",
   "id": "d6d79898",
   "metadata": {},
   "source": [
    "# Attempt 1"
   ]
  },
  {
   "cell_type": "code",
   "execution_count": 109,
   "id": "30d17351",
   "metadata": {},
   "outputs": [
    {
     "name": "stdout",
     "output_type": "stream",
     "text": [
      "<class 'numpy.ndarray'>\n",
      "(2735, 4)\n",
      "[[ 40.    4.   83.    4. ]\n",
      " [  2.    3.   22.    0. ]\n",
      " [ 27.    2.   93.    3.4]\n",
      " [ 25.    3.  120.    0. ]\n",
      " [ 21.    4.   84.    0. ]]\n"
     ]
    },
    {
     "data": {
      "text/html": [
       "<div>\n",
       "<style scoped>\n",
       "    .dataframe tbody tr th:only-of-type {\n",
       "        vertical-align: middle;\n",
       "    }\n",
       "\n",
       "    .dataframe tbody tr th {\n",
       "        vertical-align: top;\n",
       "    }\n",
       "\n",
       "    .dataframe thead th {\n",
       "        text-align: right;\n",
       "    }\n",
       "</style>\n",
       "<table border=\"1\" class=\"dataframe\">\n",
       "  <thead>\n",
       "    <tr style=\"text-align: right;\">\n",
       "      <th></th>\n",
       "      <th>yrs_experience</th>\n",
       "      <th>family_size</th>\n",
       "      <th>income</th>\n",
       "      <th>credit_card_spend</th>\n",
       "    </tr>\n",
       "  </thead>\n",
       "  <tbody>\n",
       "    <tr>\n",
       "      <th>2331</th>\n",
       "      <td>40.0</td>\n",
       "      <td>4.0</td>\n",
       "      <td>83.0</td>\n",
       "      <td>4.0</td>\n",
       "    </tr>\n",
       "    <tr>\n",
       "      <th>3156</th>\n",
       "      <td>2.0</td>\n",
       "      <td>3.0</td>\n",
       "      <td>22.0</td>\n",
       "      <td>0.0</td>\n",
       "    </tr>\n",
       "    <tr>\n",
       "      <th>691</th>\n",
       "      <td>27.0</td>\n",
       "      <td>2.0</td>\n",
       "      <td>93.0</td>\n",
       "      <td>3.4</td>\n",
       "    </tr>\n",
       "    <tr>\n",
       "      <th>1077</th>\n",
       "      <td>25.0</td>\n",
       "      <td>3.0</td>\n",
       "      <td>120.0</td>\n",
       "      <td>0.0</td>\n",
       "    </tr>\n",
       "    <tr>\n",
       "      <th>1072</th>\n",
       "      <td>21.0</td>\n",
       "      <td>4.0</td>\n",
       "      <td>84.0</td>\n",
       "      <td>0.0</td>\n",
       "    </tr>\n",
       "  </tbody>\n",
       "</table>\n",
       "</div>"
      ],
      "text/plain": [
       "      yrs_experience  family_size  income  credit_card_spend\n",
       "2331            40.0          4.0    83.0                4.0\n",
       "3156             2.0          3.0    22.0                0.0\n",
       "691             27.0          2.0    93.0                3.4\n",
       "1077            25.0          3.0   120.0                0.0\n",
       "1072            21.0          4.0    84.0                0.0"
      ]
     },
     "execution_count": 109,
     "metadata": {},
     "output_type": "execute_result"
    }
   ],
   "source": [
    "# This is a trial and error process\n",
    "# There are 8 features in this data set\n",
    "# First let's try k=7\n",
    "X_selected = SelectKBest(chi2, k=4).fit_transform(X_train, y_train)\n",
    "\n",
    "# Print the type and shape of the selected features\n",
    "print(type(X_selected))\n",
    "print(X_selected.shape)\n",
    "\n",
    "# Print the first 5 rows of the selected features\n",
    "np.set_printoptions(suppress=True) # Suppress scientific notation when printing\n",
    "print(X_selected[:5])\n",
    "\n",
    "# Print the first 5 rows of all the features in the dataset\n",
    "X_train.head()"
   ]
  },
  {
   "cell_type": "markdown",
   "id": "2a34d3f2",
   "metadata": {},
   "source": [
    "# Attempt 2"
   ]
  },
  {
   "cell_type": "code",
   "execution_count": 110,
   "id": "c9fc25f8",
   "metadata": {},
   "outputs": [
    {
     "name": "stdout",
     "output_type": "stream",
     "text": [
      "<class 'numpy.ndarray'>\n",
      "(2735, 4)\n",
      "[[ 40.    4.   83.    4. ]\n",
      " [  2.    3.   22.    0. ]\n",
      " [ 27.    2.   93.    3.4]\n",
      " [ 25.    3.  120.    0. ]\n",
      " [ 21.    4.   84.    0. ]]\n"
     ]
    },
    {
     "data": {
      "text/html": [
       "<div>\n",
       "<style scoped>\n",
       "    .dataframe tbody tr th:only-of-type {\n",
       "        vertical-align: middle;\n",
       "    }\n",
       "\n",
       "    .dataframe tbody tr th {\n",
       "        vertical-align: top;\n",
       "    }\n",
       "\n",
       "    .dataframe thead th {\n",
       "        text-align: right;\n",
       "    }\n",
       "</style>\n",
       "<table border=\"1\" class=\"dataframe\">\n",
       "  <thead>\n",
       "    <tr style=\"text-align: right;\">\n",
       "      <th></th>\n",
       "      <th>yrs_experience</th>\n",
       "      <th>family_size</th>\n",
       "      <th>income</th>\n",
       "      <th>credit_card_spend</th>\n",
       "    </tr>\n",
       "  </thead>\n",
       "  <tbody>\n",
       "    <tr>\n",
       "      <th>2331</th>\n",
       "      <td>40.0</td>\n",
       "      <td>4.0</td>\n",
       "      <td>83.0</td>\n",
       "      <td>4.0</td>\n",
       "    </tr>\n",
       "    <tr>\n",
       "      <th>3156</th>\n",
       "      <td>2.0</td>\n",
       "      <td>3.0</td>\n",
       "      <td>22.0</td>\n",
       "      <td>0.0</td>\n",
       "    </tr>\n",
       "    <tr>\n",
       "      <th>691</th>\n",
       "      <td>27.0</td>\n",
       "      <td>2.0</td>\n",
       "      <td>93.0</td>\n",
       "      <td>3.4</td>\n",
       "    </tr>\n",
       "    <tr>\n",
       "      <th>1077</th>\n",
       "      <td>25.0</td>\n",
       "      <td>3.0</td>\n",
       "      <td>120.0</td>\n",
       "      <td>0.0</td>\n",
       "    </tr>\n",
       "    <tr>\n",
       "      <th>1072</th>\n",
       "      <td>21.0</td>\n",
       "      <td>4.0</td>\n",
       "      <td>84.0</td>\n",
       "      <td>0.0</td>\n",
       "    </tr>\n",
       "  </tbody>\n",
       "</table>\n",
       "</div>"
      ],
      "text/plain": [
       "      yrs_experience  family_size  income  credit_card_spend\n",
       "2331            40.0          4.0    83.0                4.0\n",
       "3156             2.0          3.0    22.0                0.0\n",
       "691             27.0          2.0    93.0                3.4\n",
       "1077            25.0          3.0   120.0                0.0\n",
       "1072            21.0          4.0    84.0                0.0"
      ]
     },
     "execution_count": 110,
     "metadata": {},
     "output_type": "execute_result"
    }
   ],
   "source": [
    "# Try k=6\n",
    "X_selected = SelectKBest(chi2, k=4).fit_transform(X_train, y_train)\n",
    "\n",
    "# Print the type and shape of the selected features\n",
    "print(type(X_selected))\n",
    "print(X_selected.shape)\n",
    "\n",
    "# Print the first 5 rows of the selected features\n",
    "print(X_selected[:5])\n",
    "\n",
    "# Print the first 5 rows of all the features in the dataset\n",
    "X_train.head()"
   ]
  },
  {
   "cell_type": "markdown",
   "id": "b94b5572",
   "metadata": {},
   "source": [
    "# Attempt 3"
   ]
  },
  {
   "cell_type": "code",
   "execution_count": 112,
   "id": "4f62d491",
   "metadata": {},
   "outputs": [
    {
     "name": "stdout",
     "output_type": "stream",
     "text": [
      "<class 'numpy.ndarray'>\n",
      "(2735, 4)\n",
      "[[ 40.    4.   83.    4. ]\n",
      " [  2.    3.   22.    0. ]\n",
      " [ 27.    2.   93.    3.4]\n",
      " [ 25.    3.  120.    0. ]\n",
      " [ 21.    4.   84.    0. ]]\n"
     ]
    },
    {
     "data": {
      "text/html": [
       "<div>\n",
       "<style scoped>\n",
       "    .dataframe tbody tr th:only-of-type {\n",
       "        vertical-align: middle;\n",
       "    }\n",
       "\n",
       "    .dataframe tbody tr th {\n",
       "        vertical-align: top;\n",
       "    }\n",
       "\n",
       "    .dataframe thead th {\n",
       "        text-align: right;\n",
       "    }\n",
       "</style>\n",
       "<table border=\"1\" class=\"dataframe\">\n",
       "  <thead>\n",
       "    <tr style=\"text-align: right;\">\n",
       "      <th></th>\n",
       "      <th>yrs_experience</th>\n",
       "      <th>family_size</th>\n",
       "      <th>income</th>\n",
       "      <th>credit_card_spend</th>\n",
       "    </tr>\n",
       "  </thead>\n",
       "  <tbody>\n",
       "    <tr>\n",
       "      <th>2331</th>\n",
       "      <td>40.0</td>\n",
       "      <td>4.0</td>\n",
       "      <td>83.0</td>\n",
       "      <td>4.0</td>\n",
       "    </tr>\n",
       "    <tr>\n",
       "      <th>3156</th>\n",
       "      <td>2.0</td>\n",
       "      <td>3.0</td>\n",
       "      <td>22.0</td>\n",
       "      <td>0.0</td>\n",
       "    </tr>\n",
       "    <tr>\n",
       "      <th>691</th>\n",
       "      <td>27.0</td>\n",
       "      <td>2.0</td>\n",
       "      <td>93.0</td>\n",
       "      <td>3.4</td>\n",
       "    </tr>\n",
       "    <tr>\n",
       "      <th>1077</th>\n",
       "      <td>25.0</td>\n",
       "      <td>3.0</td>\n",
       "      <td>120.0</td>\n",
       "      <td>0.0</td>\n",
       "    </tr>\n",
       "    <tr>\n",
       "      <th>1072</th>\n",
       "      <td>21.0</td>\n",
       "      <td>4.0</td>\n",
       "      <td>84.0</td>\n",
       "      <td>0.0</td>\n",
       "    </tr>\n",
       "  </tbody>\n",
       "</table>\n",
       "</div>"
      ],
      "text/plain": [
       "      yrs_experience  family_size  income  credit_card_spend\n",
       "2331            40.0          4.0    83.0                4.0\n",
       "3156             2.0          3.0    22.0                0.0\n",
       "691             27.0          2.0    93.0                3.4\n",
       "1077            25.0          3.0   120.0                0.0\n",
       "1072            21.0          4.0    84.0                0.0"
      ]
     },
     "execution_count": 112,
     "metadata": {},
     "output_type": "execute_result"
    }
   ],
   "source": [
    "# Try k=5\n",
    "X_selected = SelectKBest(chi2, k=4).fit_transform(X_train, y_train)\n",
    "\n",
    "# Print the type and shape of the selected features\n",
    "print(type(X_selected))\n",
    "print(X_selected.shape)\n",
    "\n",
    "# Print the first 5 rows of the selected features\n",
    "print(X_selected[:5])\n",
    "\n",
    "# Print the first 5 rows of all the features in the dataset\n",
    "X_train.head()"
   ]
  },
  {
   "cell_type": "markdown",
   "id": "0fb1f04f",
   "metadata": {},
   "source": [
    "# Attempt 4"
   ]
  },
  {
   "cell_type": "code",
   "execution_count": 113,
   "id": "3e936cf6",
   "metadata": {},
   "outputs": [
    {
     "name": "stdout",
     "output_type": "stream",
     "text": [
      "<class 'numpy.ndarray'>\n",
      "(2735, 4)\n",
      "[[ 40.    4.   83.    4. ]\n",
      " [  2.    3.   22.    0. ]\n",
      " [ 27.    2.   93.    3.4]\n",
      " [ 25.    3.  120.    0. ]\n",
      " [ 21.    4.   84.    0. ]]\n"
     ]
    },
    {
     "data": {
      "text/html": [
       "<div>\n",
       "<style scoped>\n",
       "    .dataframe tbody tr th:only-of-type {\n",
       "        vertical-align: middle;\n",
       "    }\n",
       "\n",
       "    .dataframe tbody tr th {\n",
       "        vertical-align: top;\n",
       "    }\n",
       "\n",
       "    .dataframe thead th {\n",
       "        text-align: right;\n",
       "    }\n",
       "</style>\n",
       "<table border=\"1\" class=\"dataframe\">\n",
       "  <thead>\n",
       "    <tr style=\"text-align: right;\">\n",
       "      <th></th>\n",
       "      <th>yrs_experience</th>\n",
       "      <th>family_size</th>\n",
       "      <th>income</th>\n",
       "      <th>credit_card_spend</th>\n",
       "    </tr>\n",
       "  </thead>\n",
       "  <tbody>\n",
       "    <tr>\n",
       "      <th>2331</th>\n",
       "      <td>40.0</td>\n",
       "      <td>4.0</td>\n",
       "      <td>83.0</td>\n",
       "      <td>4.0</td>\n",
       "    </tr>\n",
       "    <tr>\n",
       "      <th>3156</th>\n",
       "      <td>2.0</td>\n",
       "      <td>3.0</td>\n",
       "      <td>22.0</td>\n",
       "      <td>0.0</td>\n",
       "    </tr>\n",
       "    <tr>\n",
       "      <th>691</th>\n",
       "      <td>27.0</td>\n",
       "      <td>2.0</td>\n",
       "      <td>93.0</td>\n",
       "      <td>3.4</td>\n",
       "    </tr>\n",
       "    <tr>\n",
       "      <th>1077</th>\n",
       "      <td>25.0</td>\n",
       "      <td>3.0</td>\n",
       "      <td>120.0</td>\n",
       "      <td>0.0</td>\n",
       "    </tr>\n",
       "    <tr>\n",
       "      <th>1072</th>\n",
       "      <td>21.0</td>\n",
       "      <td>4.0</td>\n",
       "      <td>84.0</td>\n",
       "      <td>0.0</td>\n",
       "    </tr>\n",
       "  </tbody>\n",
       "</table>\n",
       "</div>"
      ],
      "text/plain": [
       "      yrs_experience  family_size  income  credit_card_spend\n",
       "2331            40.0          4.0    83.0                4.0\n",
       "3156             2.0          3.0    22.0                0.0\n",
       "691             27.0          2.0    93.0                3.4\n",
       "1077            25.0          3.0   120.0                0.0\n",
       "1072            21.0          4.0    84.0                0.0"
      ]
     },
     "execution_count": 113,
     "metadata": {},
     "output_type": "execute_result"
    }
   ],
   "source": [
    "# Try k=4\n",
    "X_selected = SelectKBest(chi2, k=4).fit_transform(X_train, y_train)\n",
    "\n",
    "# Print the type and shape of the selected features\n",
    "print(type(X_selected))\n",
    "print(X_selected.shape)\n",
    "\n",
    "# Print the first 5 rows of the selected features\n",
    "print(X_selected[:5])\n",
    "\n",
    "# Print the first 5 rows of all the features in the dataset\n",
    "X_train.head()"
   ]
  },
  {
   "cell_type": "code",
   "execution_count": 114,
   "id": "2d40f8f4",
   "metadata": {},
   "outputs": [],
   "source": [
    "# When checking the number of unique values, the blood pressure column was found to contain 47 values\n",
    "# This is evidence that it's a continuous variable\n",
    "\n",
    "# Some classification algorithms do not work well with continuous values - too many values\n",
    "# So, depending on the classification algorithm you are usind, you might need to categorise these values\n",
    "# How? Need some domain knowlege\n",
    "# For blood pressure we could use the following:\n",
    "# less than 80 = normal, between 80-89 = high, greater than 89 = very high\n",
    "\n",
    "# Define a function to classify this\n",
    "# Pass the whole dataframe as parameter\n",
    "# And return a category (a word label but you could also return numeric labels)\n",
    "# NOTE: Do not create too many categories as this will affect the learning algorithms\n",
    "def income_category(df): \n",
    "    if df[\"income\"] <= 50:\n",
    "        return \"low_income\"\n",
    "    elif (df[\"income\"] > 50) & (df[\"income\"] <= 89):\n",
    "        return \"middle_income\"\n",
    "    elif df[\"income\"] > 89:\n",
    "        return \"high_income\"\n",
    "    \n"
   ]
  },
  {
   "cell_type": "code",
   "execution_count": 115,
   "id": "88b77739",
   "metadata": {},
   "outputs": [
    {
     "data": {
      "text/html": [
       "<div>\n",
       "<style scoped>\n",
       "    .dataframe tbody tr th:only-of-type {\n",
       "        vertical-align: middle;\n",
       "    }\n",
       "\n",
       "    .dataframe tbody tr th {\n",
       "        vertical-align: top;\n",
       "    }\n",
       "\n",
       "    .dataframe thead th {\n",
       "        text-align: right;\n",
       "    }\n",
       "</style>\n",
       "<table border=\"1\" class=\"dataframe\">\n",
       "  <thead>\n",
       "    <tr style=\"text-align: right;\">\n",
       "      <th></th>\n",
       "      <th>yrs_experience</th>\n",
       "      <th>family_size</th>\n",
       "      <th>credit_card_spend</th>\n",
       "      <th>income_category</th>\n",
       "    </tr>\n",
       "  </thead>\n",
       "  <tbody>\n",
       "    <tr>\n",
       "      <th>2331</th>\n",
       "      <td>40.0</td>\n",
       "      <td>4.0</td>\n",
       "      <td>4.0</td>\n",
       "      <td>middle_income</td>\n",
       "    </tr>\n",
       "    <tr>\n",
       "      <th>3156</th>\n",
       "      <td>2.0</td>\n",
       "      <td>3.0</td>\n",
       "      <td>0.0</td>\n",
       "      <td>low_income</td>\n",
       "    </tr>\n",
       "    <tr>\n",
       "      <th>691</th>\n",
       "      <td>27.0</td>\n",
       "      <td>2.0</td>\n",
       "      <td>3.4</td>\n",
       "      <td>high_income</td>\n",
       "    </tr>\n",
       "    <tr>\n",
       "      <th>1077</th>\n",
       "      <td>25.0</td>\n",
       "      <td>3.0</td>\n",
       "      <td>0.0</td>\n",
       "      <td>high_income</td>\n",
       "    </tr>\n",
       "    <tr>\n",
       "      <th>1072</th>\n",
       "      <td>21.0</td>\n",
       "      <td>4.0</td>\n",
       "      <td>0.0</td>\n",
       "      <td>middle_income</td>\n",
       "    </tr>\n",
       "  </tbody>\n",
       "</table>\n",
       "</div>"
      ],
      "text/plain": [
       "      yrs_experience  family_size  credit_card_spend income_category\n",
       "2331            40.0          4.0                4.0   middle_income\n",
       "3156             2.0          3.0                0.0      low_income\n",
       "691             27.0          2.0                3.4     high_income\n",
       "1077            25.0          3.0                0.0     high_income\n",
       "1072            21.0          4.0                0.0   middle_income"
      ]
     },
     "execution_count": 115,
     "metadata": {},
     "output_type": "execute_result"
    }
   ],
   "source": [
    "# Apply the  previously defined function to the training set\n",
    "\n",
    "# Use apply() to apply a lambda function for all the rows of the dataframe\n",
    "# The lambda function calls the previously defined function bp_category()\n",
    "# To which it passes the diabetes_df as parameter\n",
    "# And a category is returned and saved in a new column named \"blood_pressure_category\"\n",
    "# https://pandas.pydata.org/pandas-docs/stable/reference/api/pandas.DataFrame.apply.html\n",
    "# the backslash is a line continuation character - there should be nothing after it, not even a space\n",
    "\n",
    "# Warning: A value is trying to be set on a copy of a slice from a DataFrame.\n",
    "# Try using .loc[row_indexer,col_indexer] = value instead\n",
    "# Below is another fix - make a copy\n",
    "X_train = X_train.copy()\n",
    "X_train[\"income_category\"] = \\\n",
    "    X_train.apply(lambda X_train:bp_category(X_train), axis = 1) # axis=1 = row-wise\n",
    "\n",
    "# The column \"blood_pressure\" is no longer needed and hence can be deleted \n",
    "X_train.drop(['income'], axis=1, inplace=True)\n",
    "\n",
    "# Check\n",
    "X_train.head()"
   ]
  },
  {
   "cell_type": "code",
   "execution_count": 116,
   "id": "1063b74e",
   "metadata": {},
   "outputs": [
    {
     "data": {
      "text/html": [
       "<div>\n",
       "<style scoped>\n",
       "    .dataframe tbody tr th:only-of-type {\n",
       "        vertical-align: middle;\n",
       "    }\n",
       "\n",
       "    .dataframe tbody tr th {\n",
       "        vertical-align: top;\n",
       "    }\n",
       "\n",
       "    .dataframe thead th {\n",
       "        text-align: right;\n",
       "    }\n",
       "</style>\n",
       "<table border=\"1\" class=\"dataframe\">\n",
       "  <thead>\n",
       "    <tr style=\"text-align: right;\">\n",
       "      <th></th>\n",
       "      <th>yrs_experience</th>\n",
       "      <th>family_size</th>\n",
       "      <th>credit_card_spend</th>\n",
       "      <th>income_category</th>\n",
       "    </tr>\n",
       "  </thead>\n",
       "  <tbody>\n",
       "    <tr>\n",
       "      <th>1664</th>\n",
       "      <td>36.0</td>\n",
       "      <td>3.0</td>\n",
       "      <td>1.1</td>\n",
       "      <td>high_income</td>\n",
       "    </tr>\n",
       "    <tr>\n",
       "      <th>993</th>\n",
       "      <td>11.0</td>\n",
       "      <td>2.0</td>\n",
       "      <td>0.0</td>\n",
       "      <td>middle_income</td>\n",
       "    </tr>\n",
       "    <tr>\n",
       "      <th>2911</th>\n",
       "      <td>9.0</td>\n",
       "      <td>4.0</td>\n",
       "      <td>0.0</td>\n",
       "      <td>middle_income</td>\n",
       "    </tr>\n",
       "    <tr>\n",
       "      <th>994</th>\n",
       "      <td>12.0</td>\n",
       "      <td>2.0</td>\n",
       "      <td>0.0</td>\n",
       "      <td>low_income</td>\n",
       "    </tr>\n",
       "    <tr>\n",
       "      <th>137</th>\n",
       "      <td>40.0</td>\n",
       "      <td>2.0</td>\n",
       "      <td>0.0</td>\n",
       "      <td>low_income</td>\n",
       "    </tr>\n",
       "  </tbody>\n",
       "</table>\n",
       "</div>"
      ],
      "text/plain": [
       "      yrs_experience  family_size  credit_card_spend income_category\n",
       "1664            36.0          3.0                1.1     high_income\n",
       "993             11.0          2.0                0.0   middle_income\n",
       "2911             9.0          4.0                0.0   middle_income\n",
       "994             12.0          2.0                0.0      low_income\n",
       "137             40.0          2.0                0.0      low_income"
      ]
     },
     "execution_count": 116,
     "metadata": {},
     "output_type": "execute_result"
    }
   ],
   "source": [
    "# Apply the  previously defined function to the testing set\n",
    "X_test = X_test.copy()\n",
    "X_test[\"income_category\"] = \\\n",
    "    X_test.apply(lambda X_test:bp_category(X_test), axis = 1) # axis=1 = row-wise\n",
    "\n",
    "# The column \"blood_pressure\" is no longer needed and hence can be deleted \n",
    "X_test.drop(['income'], axis=1, inplace=True)\n",
    "\n",
    "# Check\n",
    "X_test.head()"
   ]
  },
  {
   "cell_type": "code",
   "execution_count": 117,
   "id": "842331da",
   "metadata": {},
   "outputs": [
    {
     "name": "stdout",
     "output_type": "stream",
     "text": [
      "              precision    recall  f1-score   support\n",
      "\n",
      "         0.0       0.56      1.00      0.72       386\n",
      "        70.0       0.00      0.00      0.00         6\n",
      "        71.0       0.00      0.00      0.00         4\n",
      "        72.0       0.00      0.00      0.00         1\n",
      "        73.0       0.00      0.00      0.00         1\n",
      "        74.0       0.00      0.00      0.00         1\n",
      "        75.0       0.00      0.00      0.00         2\n",
      "        76.0       0.00      0.00      0.00         3\n",
      "        77.0       0.00      0.00      0.00         1\n",
      "        78.0       0.00      0.00      0.00         2\n",
      "        79.0       0.00      0.00      0.00         2\n",
      "        80.0       0.00      0.00      0.00         8\n",
      "        81.0       0.00      0.00      0.00         6\n",
      "        83.0       0.00      0.00      0.00         2\n",
      "        84.0       0.00      0.00      0.00         4\n",
      "        85.0       0.00      0.00      0.00         2\n",
      "        86.0       0.00      0.00      0.00         2\n",
      "        87.0       0.00      0.00      0.00         3\n",
      "        88.0       0.00      0.00      0.00         1\n",
      "        89.0       0.00      0.00      0.00         1\n",
      "        90.0       0.00      0.00      0.00         4\n",
      "        91.0       0.00      0.00      0.00         1\n",
      "        92.0       0.00      0.00      0.00         1\n",
      "        93.0       0.00      0.00      0.00         2\n",
      "        94.0       0.00      0.00      0.00         1\n",
      "        95.0       0.00      0.00      0.00         6\n",
      "        96.0       0.00      0.00      0.00         2\n",
      "        97.0       0.00      0.00      0.00         3\n",
      "        99.0       0.00      0.00      0.00         1\n",
      "       100.0       0.00      0.00      0.00         2\n",
      "       101.0       0.00      0.00      0.00         4\n",
      "       102.0       0.00      0.00      0.00         2\n",
      "       103.0       0.00      0.00      0.00         2\n",
      "       104.0       0.00      0.00      0.00         3\n",
      "       105.0       0.00      0.00      0.00         3\n",
      "       106.0       0.00      0.00      0.00         1\n",
      "       107.0       0.00      0.00      0.00         3\n",
      "       109.0       0.00      0.00      0.00         3\n",
      "       110.0       0.00      0.00      0.00         5\n",
      "       111.0       0.00      0.00      0.00         2\n",
      "       112.0       0.00      0.00      0.00         4\n",
      "       113.0       0.00      0.00      0.00         3\n",
      "       114.0       0.00      0.00      0.00         3\n",
      "       116.0       0.00      0.00      0.00         1\n",
      "       117.0       0.00      0.00      0.00         5\n",
      "       118.0       0.00      0.00      0.00         3\n",
      "       119.0       0.00      0.00      0.00         1\n",
      "       120.0       0.00      0.00      0.00         4\n",
      "       121.0       0.00      0.00      0.00         3\n",
      "       122.0       0.00      0.00      0.00         2\n",
      "       123.0       0.00      0.00      0.00         1\n",
      "       125.0       0.00      0.00      0.00         2\n",
      "       126.0       0.00      0.00      0.00         1\n",
      "       127.0       0.00      0.00      0.00         2\n",
      "       128.0       0.00      0.00      0.00         4\n",
      "       129.0       0.00      0.00      0.00         2\n",
      "       130.0       0.00      0.00      0.00         2\n",
      "       131.0       0.00      0.00      0.00         1\n",
      "       132.0       0.00      0.00      0.00         3\n",
      "       133.0       0.00      0.00      0.00         1\n",
      "       134.0       0.00      0.00      0.00         1\n",
      "       135.0       0.00      0.00      0.00         2\n",
      "       136.0       0.00      0.00      0.00         4\n",
      "       137.0       0.00      0.00      0.00         1\n",
      "       139.0       0.00      0.00      0.00         3\n",
      "       141.0       0.00      0.00      0.00         1\n",
      "       144.0       0.00      0.00      0.00         1\n",
      "       145.0       0.00      0.00      0.00         2\n",
      "       148.0       0.00      0.00      0.00         2\n",
      "       149.0       0.00      0.00      0.00         1\n",
      "       150.0       0.00      0.00      0.00         1\n",
      "       151.0       0.00      0.00      0.00         1\n",
      "       152.0       0.00      0.00      0.00         1\n",
      "       153.0       0.00      0.00      0.00         2\n",
      "       154.0       0.00      0.00      0.00         1\n",
      "       155.0       0.00      0.00      0.00         1\n",
      "       157.0       0.00      0.00      0.00         3\n",
      "       158.0       0.00      0.00      0.00         2\n",
      "       159.0       0.00      0.00      0.00         2\n",
      "       160.0       0.00      0.00      0.00         3\n",
      "       161.0       0.00      0.00      0.00         3\n",
      "       162.0       0.00      0.00      0.00         2\n",
      "       163.0       0.00      0.00      0.00         1\n",
      "       164.0       0.00      0.00      0.00         2\n",
      "       166.0       0.00      0.00      0.00         2\n",
      "       167.0       0.00      0.00      0.00         2\n",
      "       168.0       0.00      0.00      0.00         1\n",
      "       169.0       0.00      0.00      0.00         4\n",
      "       170.0       0.00      0.00      0.00         2\n",
      "       171.0       0.00      0.00      0.00         2\n",
      "       173.0       0.00      0.00      0.00         1\n",
      "       174.0       0.00      0.00      0.00         1\n",
      "       175.0       0.00      0.00      0.00         4\n",
      "       179.0       0.00      0.00      0.00         3\n",
      "       181.0       0.00      0.00      0.00         1\n",
      "       182.0       0.00      0.00      0.00         1\n",
      "       183.0       0.00      0.00      0.00         1\n",
      "       185.0       0.00      0.00      0.00         1\n",
      "       186.0       0.00      0.00      0.00         1\n",
      "       187.0       0.00      0.00      0.00         1\n",
      "       188.0       0.00      0.00      0.00         2\n",
      "       189.0       0.00      0.00      0.00         3\n",
      "       190.0       0.00      0.00      0.00         1\n",
      "       192.0       0.00      0.00      0.00         1\n",
      "       194.0       0.00      0.00      0.00         2\n",
      "       195.0       0.00      0.00      0.00         2\n",
      "       196.0       0.00      0.00      0.00         3\n",
      "       197.0       0.00      0.00      0.00         3\n",
      "       198.0       0.00      0.00      0.00         1\n",
      "       200.0       0.00      0.00      0.00         1\n",
      "       201.0       0.00      0.00      0.00         3\n",
      "       202.0       0.00      0.00      0.00         1\n",
      "       203.0       0.00      0.00      0.00         3\n",
      "       206.0       0.00      0.00      0.00         3\n",
      "       207.0       0.00      0.00      0.00         1\n",
      "       208.0       0.00      0.00      0.00         1\n",
      "       211.0       0.00      0.00      0.00         1\n",
      "       213.0       0.00      0.00      0.00         1\n",
      "       216.0       0.00      0.00      0.00         1\n",
      "       218.0       0.00      0.00      0.00         1\n",
      "       219.0       0.00      0.00      0.00         1\n",
      "       221.0       0.00      0.00      0.00         2\n",
      "       222.0       0.00      0.00      0.00         1\n",
      "       223.0       0.00      0.00      0.00         1\n",
      "       225.0       0.00      0.00      0.00         1\n",
      "       226.0       0.00      0.00      0.00         3\n",
      "       230.0       0.00      0.00      0.00         1\n",
      "       232.0       0.00      0.00      0.00         1\n",
      "       237.0       0.00      0.00      0.00         2\n",
      "       239.0       0.00      0.00      0.00         2\n",
      "       240.0       0.00      0.00      0.00         1\n",
      "       242.0       0.00      0.00      0.00         1\n",
      "       244.0       0.00      0.00      0.00         1\n",
      "       248.0       0.00      0.00      0.00         1\n",
      "       249.0       0.00      0.00      0.00         1\n",
      "       250.0       0.00      0.00      0.00         1\n",
      "       263.0       0.00      0.00      0.00         1\n",
      "       265.0       0.00      0.00      0.00         1\n",
      "       266.0       0.00      0.00      0.00         2\n",
      "       270.0       0.00      0.00      0.00         2\n",
      "       272.0       0.00      0.00      0.00         1\n",
      "       273.0       0.00      0.00      0.00         1\n",
      "       278.0       0.00      0.00      0.00         1\n",
      "       284.0       0.00      0.00      0.00         1\n",
      "       287.0       0.00      0.00      0.00         1\n",
      "       291.0       0.00      0.00      0.00         2\n",
      "       292.0       0.00      0.00      0.00         1\n",
      "       295.0       0.00      0.00      0.00         1\n",
      "       299.0       0.00      0.00      0.00         1\n",
      "       301.0       0.00      0.00      0.00         1\n",
      "       302.0       0.00      0.00      0.00         1\n",
      "       305.0       0.00      0.00      0.00         1\n",
      "       311.0       0.00      0.00      0.00         1\n",
      "\n",
      "    accuracy                           0.56       684\n",
      "   macro avg       0.00      0.01      0.00       684\n",
      "weighted avg       0.32      0.56      0.41       684\n",
      "\n"
     ]
    },
    {
     "name": "stderr",
     "output_type": "stream",
     "text": [
      "/Users/sohilpachbhaiya/miniconda3/lib/python3.10/site-packages/sklearn/metrics/_classification.py:1344: UndefinedMetricWarning: Precision and F-score are ill-defined and being set to 0.0 in labels with no predicted samples. Use `zero_division` parameter to control this behavior.\n",
      "  _warn_prf(average, modifier, msg_start, len(result))\n",
      "/Users/sohilpachbhaiya/miniconda3/lib/python3.10/site-packages/sklearn/metrics/_classification.py:1344: UndefinedMetricWarning: Precision and F-score are ill-defined and being set to 0.0 in labels with no predicted samples. Use `zero_division` parameter to control this behavior.\n",
      "  _warn_prf(average, modifier, msg_start, len(result))\n",
      "/Users/sohilpachbhaiya/miniconda3/lib/python3.10/site-packages/sklearn/metrics/_classification.py:1344: UndefinedMetricWarning: Precision and F-score are ill-defined and being set to 0.0 in labels with no predicted samples. Use `zero_division` parameter to control this behavior.\n",
      "  _warn_prf(average, modifier, msg_start, len(result))\n"
     ]
    }
   ],
   "source": [
    "print(classification_report(y_test,y_pred))"
   ]
  },
  {
   "cell_type": "code",
   "execution_count": null,
   "id": "71bd998c",
   "metadata": {},
   "outputs": [],
   "source": []
  },
  {
   "cell_type": "code",
   "execution_count": null,
   "id": "6446c3cf",
   "metadata": {},
   "outputs": [],
   "source": []
  },
  {
   "cell_type": "code",
   "execution_count": null,
   "id": "f235b79a",
   "metadata": {},
   "outputs": [],
   "source": []
  },
  {
   "cell_type": "code",
   "execution_count": null,
   "id": "58989fcd",
   "metadata": {},
   "outputs": [],
   "source": []
  },
  {
   "cell_type": "code",
   "execution_count": null,
   "id": "6be5d1c2",
   "metadata": {},
   "outputs": [],
   "source": []
  },
  {
   "cell_type": "code",
   "execution_count": null,
   "id": "f52c6018",
   "metadata": {},
   "outputs": [],
   "source": []
  },
  {
   "cell_type": "code",
   "execution_count": null,
   "id": "0211e35c",
   "metadata": {},
   "outputs": [],
   "source": []
  },
  {
   "cell_type": "code",
   "execution_count": null,
   "id": "4b9ca75a",
   "metadata": {},
   "outputs": [],
   "source": []
  },
  {
   "cell_type": "code",
   "execution_count": null,
   "id": "bc55ce19",
   "metadata": {},
   "outputs": [],
   "source": []
  },
  {
   "cell_type": "code",
   "execution_count": null,
   "id": "6df64d8c",
   "metadata": {},
   "outputs": [],
   "source": []
  }
 ],
 "metadata": {
  "kernelspec": {
   "display_name": "Python 3 (ipykernel)",
   "language": "python",
   "name": "python3"
  },
  "language_info": {
   "codemirror_mode": {
    "name": "ipython",
    "version": 3
   },
   "file_extension": ".py",
   "mimetype": "text/x-python",
   "name": "python",
   "nbconvert_exporter": "python",
   "pygments_lexer": "ipython3",
   "version": "3.10.10"
  }
 },
 "nbformat": 4,
 "nbformat_minor": 5
}
